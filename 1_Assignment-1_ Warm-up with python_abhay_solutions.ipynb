{
 "cells": [
  {
   "cell_type": "markdown",
   "id": "8f12c6f9",
   "metadata": {},
   "source": [
    "## 1. Write a command to get the Python version you are using"
   ]
  },
  {
   "cell_type": "code",
   "execution_count": 30,
   "id": "f54d9f84",
   "metadata": {},
   "outputs": [
    {
     "name": "stdout",
     "output_type": "stream",
     "text": [
      "3.9.12 (main, Apr  4 2022, 05:22:27) [MSC v.1916 64 bit (AMD64)]\n"
     ]
    }
   ],
   "source": [
    "import sys\n",
    "print (sys.version)\n"
   ]
  },
  {
   "cell_type": "code",
   "execution_count": 10,
   "id": "17d727a7",
   "metadata": {},
   "outputs": [
    {
     "name": "stdout",
     "output_type": "stream",
     "text": [
      "Current Python Version- 3.9.12\n"
     ]
    }
   ],
   "source": [
    "from platform import python_version\n",
    "print(\"Current Python Version-\", python_version())"
   ]
  },
  {
   "cell_type": "code",
   "execution_count": 17,
   "id": "93b04c3e",
   "metadata": {},
   "outputs": [
    {
     "name": "stdout",
     "output_type": "stream",
     "text": [
      "3.9.12\n"
     ]
    }
   ],
   "source": [
    "import platform\n",
    "print(platform.python_version())"
   ]
  },
  {
   "cell_type": "code",
   "execution_count": 19,
   "id": "655a426b",
   "metadata": {},
   "outputs": [
    {
     "name": "stdout",
     "output_type": "stream",
     "text": [
      "3.9.12 (main, Apr  4 2022, 05:22:27) [MSC v.1916 64 bit (AMD64)]\n"
     ]
    }
   ],
   "source": [
    "import platform\n",
    "print(platform.sys.version)"
   ]
  },
  {
   "cell_type": "markdown",
   "id": "30264583",
   "metadata": {},
   "source": [
    "## 2. Write a python script to print Hello Python on the screen directly in the command line.\n"
   ]
  },
  {
   "cell_type": "code",
   "execution_count": 31,
   "id": "91777d7b",
   "metadata": {},
   "outputs": [
    {
     "name": "stdout",
     "output_type": "stream",
     "text": [
      "Hello Python\n"
     ]
    }
   ],
   "source": [
    "print(\"Hello Python\")"
   ]
  },
  {
   "cell_type": "markdown",
   "id": "44e0ab72",
   "metadata": {},
   "source": [
    "## 3. Write a python script and store it in a file and execute the file from the command line."
   ]
  },
  {
   "cell_type": "code",
   "execution_count": 2,
   "id": "20b18383",
   "metadata": {},
   "outputs": [],
   "source": [
    "# python A1.py"
   ]
  },
  {
   "cell_type": "code",
   "execution_count": 45,
   "id": "a34fbbbb",
   "metadata": {},
   "outputs": [
    {
     "name": "stdout",
     "output_type": "stream",
     "text": [
      "Hello is exicuted from command promt\n"
     ]
    }
   ],
   "source": [
    "import A1\n",
    "print(A1.x)"
   ]
  },
  {
   "cell_type": "markdown",
   "id": "b00636bd",
   "metadata": {},
   "source": [
    "## 4. Write a python script to print Hello Python on the screen using visual studio code.\n"
   ]
  },
  {
   "cell_type": "code",
   "execution_count": 46,
   "id": "a580fee0",
   "metadata": {},
   "outputs": [
    {
     "name": "stdout",
     "output_type": "stream",
     "text": [
      "Hello Python\n"
     ]
    }
   ],
   "source": [
    "print(\"Hello Python\") #same script print function"
   ]
  },
  {
   "cell_type": "markdown",
   "id": "2bbd67fc",
   "metadata": {},
   "source": [
    "## 5. Write a python script to print Hello on the first line and Python on the second line\n"
   ]
  },
  {
   "cell_type": "code",
   "execution_count": 58,
   "id": "d4168f7c",
   "metadata": {},
   "outputs": [
    {
     "name": "stdout",
     "output_type": "stream",
     "text": [
      "Hello\n",
      "Python\n"
     ]
    }
   ],
   "source": [
    "print(\"Hello\")\n",
    "print(\"Python\")"
   ]
  },
  {
   "cell_type": "code",
   "execution_count": 3,
   "id": "4db59627",
   "metadata": {},
   "outputs": [
    {
     "name": "stdout",
     "output_type": "stream",
     "text": [
      "Hello\n",
      "Python\n"
     ]
    }
   ],
   "source": [
    "print(\"Hello\",\"Python\",sep=\"\\n\")"
   ]
  },
  {
   "cell_type": "markdown",
   "id": "ae2607a3",
   "metadata": {},
   "source": [
    "## 6. Write a python script to print “MySirG” on the screen\n"
   ]
  },
  {
   "cell_type": "code",
   "execution_count": 6,
   "id": "9cabf635",
   "metadata": {},
   "outputs": [
    {
     "name": "stdout",
     "output_type": "stream",
     "text": [
      "\"MySirG\"\n"
     ]
    }
   ],
   "source": [
    "print(\"\\\"MySirG\\\"\")"
   ]
  },
  {
   "cell_type": "markdown",
   "id": "7cd0b191",
   "metadata": {},
   "source": [
    "## 7. Write a python script to print “Teacher’s Day” on the screen\n"
   ]
  },
  {
   "cell_type": "code",
   "execution_count": 7,
   "id": "bac5751b",
   "metadata": {},
   "outputs": [
    {
     "name": "stdout",
     "output_type": "stream",
     "text": [
      "\"Teacher’s Day\"\n"
     ]
    }
   ],
   "source": [
    "print(\"\\\"Teacher’s Day\\\"\")"
   ]
  },
  {
   "cell_type": "markdown",
   "id": "ec667778",
   "metadata": {},
   "source": [
    "### 8. Write a python script to print the value of a variable. Variable contains your name as data.\n"
   ]
  },
  {
   "cell_type": "code",
   "execution_count": 61,
   "id": "d71a96da",
   "metadata": {},
   "outputs": [
    {
     "name": "stdout",
     "output_type": "stream",
     "text": [
      "Abhay\n"
     ]
    }
   ],
   "source": [
    "x=\"Abhay\"\n",
    "print(x)"
   ]
  },
  {
   "cell_type": "markdown",
   "id": "7ff5e06f",
   "metadata": {},
   "source": [
    "## 9. Write a python script to create variables to store your name, age, qualification, years of experience and print it.\n"
   ]
  },
  {
   "cell_type": "code",
   "execution_count": 9,
   "id": "527a4dc4",
   "metadata": {},
   "outputs": [],
   "source": [
    "name = \"Abhay\"\n",
    "age = 30\n",
    "qualification = \"Mtech\"\n",
    "year = 5"
   ]
  },
  {
   "cell_type": "code",
   "execution_count": 11,
   "id": "fb3cf3e9",
   "metadata": {},
   "outputs": [
    {
     "name": "stdout",
     "output_type": "stream",
     "text": [
      "Abhay\n",
      "30\n",
      "Mtech\n",
      "5\n"
     ]
    }
   ],
   "source": [
    "print(name,age,qualification,year,sep=\"\\n\")\n"
   ]
  },
  {
   "cell_type": "markdown",
   "id": "d2843a05",
   "metadata": {},
   "source": [
    "## 10. Write a python script to print values of three variables, each in a new line. Variable contains integer values"
   ]
  },
  {
   "cell_type": "code",
   "execution_count": 12,
   "id": "f696deaf",
   "metadata": {},
   "outputs": [
    {
     "name": "stdout",
     "output_type": "stream",
     "text": [
      "1\n",
      "2\n",
      "3\n"
     ]
    }
   ],
   "source": [
    "a=1\n",
    "b=2\n",
    "c=3\n",
    "print(a,b,c,sep=\"\\n\")\n"
   ]
  },
  {
   "cell_type": "code",
   "execution_count": null,
   "id": "bc374297",
   "metadata": {},
   "outputs": [],
   "source": []
  }
 ],
 "metadata": {
  "kernelspec": {
   "display_name": "Python 3 (ipykernel)",
   "language": "python",
   "name": "python3"
  },
  "language_info": {
   "codemirror_mode": {
    "name": "ipython",
    "version": 3
   },
   "file_extension": ".py",
   "mimetype": "text/x-python",
   "name": "python",
   "nbconvert_exporter": "python",
   "pygments_lexer": "ipython3",
   "version": "3.9.12"
  }
 },
 "nbformat": 4,
 "nbformat_minor": 5
}
