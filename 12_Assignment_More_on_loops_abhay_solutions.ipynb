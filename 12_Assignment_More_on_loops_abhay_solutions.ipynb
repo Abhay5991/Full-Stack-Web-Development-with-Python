{
 "cells": [
  {
   "cell_type": "markdown",
   "id": "262cd54f",
   "metadata": {},
   "source": [
    "### 1. Write a python script to reverse a number"
   ]
  },
  {
   "cell_type": "code",
   "execution_count": 2,
   "id": "406d68a1",
   "metadata": {},
   "outputs": [
    {
     "name": "stdout",
     "output_type": "stream",
     "text": [
      "Enter the integer number: 1234567\n",
      "The reverse number is : 7654321\n"
     ]
    }
   ],
   "source": [
    "number = int(input(\"Enter the integer number: \"))  \n",
    "revs_number = 0  \n",
    "\n",
    "while (number > 0):\n",
    "    remainder = number % 10  \n",
    "    revs_number = (revs_number * 10) + remainder  \n",
    "    number = number // 10  \n",
    "  \n",
    "print(\"The reverse number is : {}\".format(revs_number))  "
   ]
  },
  {
   "cell_type": "code",
   "execution_count": 3,
   "id": "478b7aca",
   "metadata": {},
   "outputs": [
    {
     "name": "stdout",
     "output_type": "stream",
     "text": [
      "654321\n"
     ]
    }
   ],
   "source": [
    "num = 123456\n",
    "print(str(num)[::-1])"
   ]
  },
  {
   "cell_type": "markdown",
   "id": "fd00d1a5",
   "metadata": {},
   "source": [
    "### 2. Write a python script to check whether a given number is Prime or not\n"
   ]
  },
  {
   "cell_type": "code",
   "execution_count": 14,
   "id": "8fae00e8",
   "metadata": {},
   "outputs": [
    {
     "name": "stdout",
     "output_type": "stream",
     "text": [
      "Enter the integer number: 9\n",
      "number is not prime\n"
     ]
    }
   ],
   "source": [
    "number = int(input(\"Enter the integer number: \")) \n",
    "for i in range(2,number):\n",
    "    if number%i==0:\n",
    "        print(\"number is not prime\")\n",
    "        break\n",
    "else:\n",
    "    print(\"numer is prime\")\n",
    "\n",
    "        "
   ]
  },
  {
   "cell_type": "markdown",
   "id": "49d6b91f",
   "metadata": {},
   "source": [
    "### 3. Write a python script to print all Prime numbers under 100\n"
   ]
  },
  {
   "cell_type": "code",
   "execution_count": 26,
   "id": "c5de5af1",
   "metadata": {},
   "outputs": [
    {
     "name": "stdout",
     "output_type": "stream",
     "text": [
      "2 3 5 7 11 13 17 19 23 29 31 37 41 43 47 53 59 61 67 71 73 79 83 89 97 "
     ]
    }
   ],
   "source": [
    "for n in range(1,100):\n",
    "   if n > 1:\n",
    "       for i in range(2,n):\n",
    "           if (n % i) == 0:\n",
    "               break\n",
    "       else:\n",
    "           print(n,end=' ')"
   ]
  },
  {
   "cell_type": "markdown",
   "id": "dcbb5d64",
   "metadata": {},
   "source": [
    "### 4. Write a python script to print all Prime numbers between two given numbers (both values inclusive)\n"
   ]
  },
  {
   "cell_type": "code",
   "execution_count": 43,
   "id": "de2a461a",
   "metadata": {},
   "outputs": [
    {
     "name": "stdout",
     "output_type": "stream",
     "text": [
      "2 3 5 7 11 13 17 19 23 29 31 37 41 43 47 53 59 61 67 71 73 79 83 89 97 "
     ]
    }
   ],
   "source": [
    "a=1\n",
    "b=100\n",
    "for n in range(a,b+1):\n",
    "   if n > 1:\n",
    "       for i in range(2,n):\n",
    "           if (n % i) == 0:\n",
    "               break\n",
    "       else:\n",
    "           print(n,end=' ')"
   ]
  },
  {
   "cell_type": "markdown",
   "id": "ec172b57",
   "metadata": {},
   "source": [
    "### 5. Write a python script to find next prime number of a given number"
   ]
  },
  {
   "cell_type": "code",
   "execution_count": 42,
   "id": "5011aa93",
   "metadata": {},
   "outputs": [
    {
     "name": "stdout",
     "output_type": "stream",
     "text": [
      "Enter the max number50\n",
      "53 "
     ]
    }
   ],
   "source": [
    "#using for loop\n",
    "from itertools import count\n",
    "max=int(input(\"Enter the max number\"))\n",
    "for n in count(max+1):\n",
    "   if n > 1:\n",
    "       for i in range(2,n):\n",
    "           if (n % i) == 0:\n",
    "               break\n",
    "       else:\n",
    "        print(n,end=' ')\n",
    "        break\n",
    "           "
   ]
  },
  {
   "cell_type": "markdown",
   "id": "3ce0e911",
   "metadata": {},
   "source": [
    "### 6. Write a python script to print first N prime numbers\n"
   ]
  },
  {
   "cell_type": "code",
   "execution_count": 46,
   "id": "4da93e85",
   "metadata": {},
   "outputs": [
    {
     "name": "stdout",
     "output_type": "stream",
     "text": [
      "Enter the min numer1\n",
      "Enter the max numer9\n",
      "2 3 5 7 "
     ]
    }
   ],
   "source": [
    "min=int(input(\"Enter the min numer\"))\n",
    "max=int(input(\"Enter the max numer\"))\n",
    "for n in range(min,max):\n",
    "   if n > 1:\n",
    "       for i in range(2,n):\n",
    "           if (n % i) == 0:\n",
    "               break\n",
    "       else:\n",
    "           print(n,end=' ')"
   ]
  },
  {
   "cell_type": "markdown",
   "id": "f2848eae",
   "metadata": {},
   "source": [
    "### 7. Write a python script to check whether a given pair of numbers are co-Prime numbers or not.\n"
   ]
  },
  {
   "cell_type": "code",
   "execution_count": 47,
   "id": "aae1a35a",
   "metadata": {},
   "outputs": [
    {
     "name": "stdout",
     "output_type": "stream",
     "text": [
      "True\n",
      "False\n"
     ]
    }
   ],
   "source": [
    "def gcd(a, b):\n",
    "    while b != 0:\n",
    "        a, b = b, a % b\n",
    "    return a\n",
    "\n",
    "def coprime(a, b):\n",
    "    return gcd(a, b) == 1\n",
    "\n",
    "print(coprime(14,15)) #Should be true\n",
    "print(coprime(14,28)) #Should be false"
   ]
  },
  {
   "cell_type": "code",
   "execution_count": 48,
   "id": "3468e3bd",
   "metadata": {},
   "outputs": [
    {
     "name": "stdout",
     "output_type": "stream",
     "text": [
      "Co-Prime\n",
      "Not Co-Prime\n"
     ]
    }
   ],
   "source": [
    "# Recursive function to\n",
    "# return gcd of a and b\n",
    "def __gcd(a, b):\n",
    "\n",
    "\t# Everything divides 0\n",
    "\tif (a == 0 or b == 0): return 0\n",
    "\t\n",
    "\t# base case\n",
    "\tif (a == b): return a\n",
    "\t\n",
    "\t# a is greater\n",
    "\tif (a > b):\n",
    "\t\treturn __gcd(a - b, b)\n",
    "\t\t\t\n",
    "\treturn __gcd(a, b - a)\n",
    "\n",
    "# Function to check and print if\n",
    "# two numbers are co-prime or not\n",
    "def coprime(a, b):\n",
    "\t\n",
    "\tif ( __gcd(a, b) == 1):\n",
    "\t\tprint(\"Co-Prime\")\n",
    "\telse:\n",
    "\t\tprint(\"Not Co-Prime\")\t\n",
    "\n",
    "# Driver code\n",
    "a = 5; b = 6\n",
    "coprime(a, b)\n",
    "\n",
    "a = 8; b = 16\n",
    "coprime(a, b)\n",
    "\n",
    "# This code is contributed by Anant Agarwal\n"
   ]
  },
  {
   "cell_type": "markdown",
   "id": "8b6857e5",
   "metadata": {},
   "source": [
    "### 8. Write a python script to print first N terms of a Fibonacci series\n"
   ]
  },
  {
   "cell_type": "code",
   "execution_count": null,
   "id": "c1f3ced2",
   "metadata": {},
   "outputs": [],
   "source": [
    "nterms = int(input(\"How many terms? \"))\n",
    "\n",
    "# first two terms\n",
    "n1, n2 = 0, 1\n",
    "count = 0\n",
    "\n",
    "# check if the number of terms is valid\n",
    "if nterms <= 0:\n",
    "   print(\"Please enter a positive integer\")\n",
    "# if there is only one term, return n1\n",
    "elif nterms == 1:\n",
    "   print(\"Fibonacci sequence upto\",nterms,\":\")\n",
    "   print(n1)\n",
    "# generate fibonacci sequence\n",
    "else:\n",
    "   print(\"Fibonacci sequence:\")\n",
    "   while count < nterms:\n",
    "       print(n1)\n",
    "       nth = n1 + n2\n",
    "       # update values\n",
    "       n1 = n2\n",
    "       n2 = nth\n",
    "       count += 1"
   ]
  },
  {
   "cell_type": "markdown",
   "id": "0a622b0d",
   "metadata": {},
   "source": [
    "### 9. Write a python script to calculate LCM of two numbers\n"
   ]
  },
  {
   "cell_type": "code",
   "execution_count": 49,
   "id": "7b276514",
   "metadata": {},
   "outputs": [
    {
     "name": "stdout",
     "output_type": "stream",
     "text": [
      " Please Enter the First Value a: 3\n",
      " Please Enter the Second Value b: 56\n",
      "\n",
      " Least Common Multiple of 3.0 and 56.0 = 168.0\n"
     ]
    }
   ],
   "source": [
    "# using If Else and While loop\n",
    "a = float(input(\" Please Enter the First Value a: \"))\n",
    "b = float(input(\" Please Enter the Second Value b: \"))\n",
    "\n",
    "if(a > b):\n",
    "    maximum = a\n",
    "else:\n",
    "    maximum = b\n",
    "\n",
    "while(True):\n",
    "    if(maximum % a == 0 and maximum % b == 0):\n",
    "        print(\"\\n Least Common Multiple of {0} and {1} = {2}\".format(a, b, maximum))\n",
    "        break;\n",
    "    maximum = maximum + 1"
   ]
  },
  {
   "cell_type": "code",
   "execution_count": 50,
   "id": "378cfa46",
   "metadata": {},
   "outputs": [
    {
     "name": "stdout",
     "output_type": "stream",
     "text": [
      " Please Enter the First Value a: 2\n",
      " Please Enter the Second Value b: 3\n",
      "\n",
      " Least Common Multiple of 2.0 and 3.0 = 6.0\n"
     ]
    }
   ],
   "source": [
    "# using If Else and While loop\n",
    "a = float(input(\" Please Enter the First Value a: \"))\n",
    "b = float(input(\" Please Enter the Second Value b: \"))\n",
    "\n",
    "if(a > b):\n",
    "    maximum = a\n",
    "else:\n",
    "    maximum = b\n",
    "\n",
    "while(True):\n",
    "    if(maximum % a == 0 and maximum % b == 0):\n",
    "        print(\"\\n Least Common Multiple of {0} and {1} = {2}\".format(a, b, maximum))\n",
    "        break;\n",
    "    maximum = maximum + 1"
   ]
  },
  {
   "cell_type": "code",
   "execution_count": 51,
   "id": "80a818ec",
   "metadata": {},
   "outputs": [
    {
     "name": "stdout",
     "output_type": "stream",
     "text": [
      " Please Enter the First Value a: 2\n",
      " Please Enter the Second Value b: 3\n",
      "\n",
      " Least Common Multiple of 2.0 and 3.0 = 6.0\n"
     ]
    }
   ],
   "source": [
    "# using If Else and While loop\n",
    "a = float(input(\" Please Enter the First Value a: \"))\n",
    "b = float(input(\" Please Enter the Second Value b: \"))\n",
    "\n",
    "if(a > b):\n",
    "    maximum = a\n",
    "else:\n",
    "    maximum = b\n",
    "\n",
    "while(True):\n",
    "    if(maximum % a == 0 and maximum % b == 0):\n",
    "        print(\"\\n Least Common Multiple of {0} and {1} = {2}\".format(a, b, maximum))\n",
    "        break;\n",
    "    maximum = maximum + 1"
   ]
  },
  {
   "cell_type": "markdown",
   "id": "69829d73",
   "metadata": {},
   "source": [
    "### 10. Write a python script to calculate HCF of two numbers"
   ]
  },
  {
   "cell_type": "code",
   "execution_count": 64,
   "id": "9835e79b",
   "metadata": {},
   "outputs": [
    {
     "name": "stdout",
     "output_type": "stream",
     "text": [
      " Please Enter the First Value a: 2\n",
      " Please Enter the Second Value b: 3\n",
      "HCF of two number is : 1\n"
     ]
    }
   ],
   "source": [
    "x = int(input(\" Please Enter the First Value a: \"))\n",
    "y = int(input(\" Please Enter the Second Value b: \"))\n",
    "\n",
    "if x > y:\n",
    "        smaller = y\n",
    "else:\n",
    "    smaller = x\n",
    "for i in range(1, smaller+1):\n",
    "    if((x % i == 0) and (y % i == 0)):\n",
    "        hcf = i \n",
    "print(\"HCF of two number is :\",hcf)"
   ]
  },
  {
   "cell_type": "code",
   "execution_count": 65,
   "id": "afbff778",
   "metadata": {},
   "outputs": [
    {
     "name": "stdout",
     "output_type": "stream",
     "text": [
      " Please Enter the First Value a: 2\n",
      " Please Enter the Second Value b: 3\n",
      "1\n",
      "The HCF is 1\n"
     ]
    }
   ],
   "source": [
    "# Function to find HCF the Using Euclidian algorithm\n",
    "x = int(input(\" Please Enter the First Value a: \"))\n",
    "y = int(input(\" Please Enter the Second Value b: \"))\n",
    "while(y):\n",
    "   x, y = y, x % y\n",
    "print(x)\n",
    "\n",
    "print(\"The HCF is\", x)"
   ]
  },
  {
   "cell_type": "code",
   "execution_count": null,
   "id": "56270766",
   "metadata": {},
   "outputs": [],
   "source": []
  }
 ],
 "metadata": {
  "kernelspec": {
   "display_name": "Python 3 (ipykernel)",
   "language": "python",
   "name": "python3"
  },
  "language_info": {
   "codemirror_mode": {
    "name": "ipython",
    "version": 3
   },
   "file_extension": ".py",
   "mimetype": "text/x-python",
   "name": "python",
   "nbconvert_exporter": "python",
   "pygments_lexer": "ipython3",
   "version": "3.9.12"
  }
 },
 "nbformat": 4,
 "nbformat_minor": 5
}
