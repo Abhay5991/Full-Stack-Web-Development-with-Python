{
 "cells": [
  {
   "cell_type": "markdown",
   "id": "bbdf8c45",
   "metadata": {},
   "source": [
    "### 1. Write a python script to check whether a given number is positive or non-positive"
   ]
  },
  {
   "cell_type": "code",
   "execution_count": 2,
   "id": "1a66080a",
   "metadata": {},
   "outputs": [
    {
     "name": "stdout",
     "output_type": "stream",
     "text": [
      "Enter the number :5\n",
      "number is positive\n"
     ]
    }
   ],
   "source": [
    "a = int(input(\"Enter the number :\"))\n",
    "if a>0:\n",
    "    print(\"number is positive\")\n",
    "else:\n",
    "    print(\"Number is non-positive\")"
   ]
  },
  {
   "cell_type": "markdown",
   "id": "b665a8c0",
   "metadata": {},
   "source": [
    "### 2. Write a python script to check whether a given number is divisible by 5 or not"
   ]
  },
  {
   "cell_type": "code",
   "execution_count": 3,
   "id": "c2d57450",
   "metadata": {},
   "outputs": [
    {
     "name": "stdout",
     "output_type": "stream",
     "text": [
      "Enter the number :30\n",
      "number is divisible by 5\n"
     ]
    }
   ],
   "source": [
    "a = int(input(\"Enter the number :\"))\n",
    "if a%5==0:\n",
    "    print(\"number is divisible by 5\")\n",
    "else:\n",
    "    print(\"number is not divisible by 5\")"
   ]
  },
  {
   "cell_type": "markdown",
   "id": "2acf544c",
   "metadata": {},
   "source": [
    "### 3. Write a python script to check whether a given number is even or odd\n"
   ]
  },
  {
   "cell_type": "code",
   "execution_count": 4,
   "id": "cc77f4cd",
   "metadata": {},
   "outputs": [
    {
     "name": "stdout",
     "output_type": "stream",
     "text": [
      "Enter the number :3\n",
      "number is odd\n"
     ]
    }
   ],
   "source": [
    "a = int(input(\"Enter the number :\"))\n",
    "if a%2==0:\n",
    "    print(\"number is even\")\n",
    "else:\n",
    "    print(\"number is odd\")"
   ]
  },
  {
   "cell_type": "markdown",
   "id": "3f31209d",
   "metadata": {},
   "source": [
    "### 4. Write a python script to print greater between two numbers. Print number only once even if the numbers are the same.\n"
   ]
  },
  {
   "cell_type": "code",
   "execution_count": 8,
   "id": "70d45314",
   "metadata": {},
   "outputs": [
    {
     "name": "stdout",
     "output_type": "stream",
     "text": [
      "Enter the ist number :4\n",
      "Enter the 2nd number :4\n",
      "number is equal\n"
     ]
    }
   ],
   "source": [
    "a = int(input(\"Enter the ist number :\"))\n",
    "b = int(input(\"Enter the 2nd number :\"))\n",
    "if a>b:\n",
    "    print(\"ist number is greater\")\n",
    "elif a<b:\n",
    "    print(\"2nd number is greater\")\n",
    "else:\n",
    "    print(\"number is equal\")"
   ]
  },
  {
   "cell_type": "markdown",
   "id": "f2d31492",
   "metadata": {},
   "source": [
    "### 5. Write a python script to print two given words in dictionary order"
   ]
  },
  {
   "cell_type": "code",
   "execution_count": 14,
   "id": "74dff772",
   "metadata": {},
   "outputs": [
    {
     "name": "stdout",
     "output_type": "stream",
     "text": [
      "Enter the ist Word :aman\n",
      "Enter the 2nd word :abhay\n",
      "abhay : aman\n"
     ]
    }
   ],
   "source": [
    "fst_word = str(input(\"Enter the ist Word :\"))\n",
    "snd_word = str(input(\"Enter the 2nd word :\"))\n",
    "if fst_word > snd_word:\n",
    "    print(snd_word ,\":\",fst_word)\n",
    "elif fst_word<snd_word:\n",
    "    print(fst_word ,\":\",snd_word)\n",
    "else:\n",
    "    print(fst_word ,\":\",snd_word)"
   ]
  },
  {
   "cell_type": "code",
   "execution_count": 4,
   "id": "cced9209",
   "metadata": {},
   "outputs": [
    {
     "name": "stdout",
     "output_type": "stream",
     "text": [
      "Enter the two Words :\n",
      "abhay\n",
      "kumar\n",
      "('abhay', 'kumar')\n"
     ]
    }
   ],
   "source": [
    "print(\"Enter the two Words :\")\n",
    "a,b = input(),input()\n",
    "print((b,a) if a>b else (a,b))"
   ]
  },
  {
   "cell_type": "markdown",
   "id": "d1e4a60c",
   "metadata": {},
   "source": [
    "### 6. Write a python script to check whether a given number is a three digit number or not.\n"
   ]
  },
  {
   "cell_type": "code",
   "execution_count": 32,
   "id": "b5d4f6e8",
   "metadata": {},
   "outputs": [
    {
     "name": "stdout",
     "output_type": "stream",
     "text": [
      "Enter the ist number :222\n",
      "number is a three digit number\n"
     ]
    }
   ],
   "source": [
    "num = int(input(\"Enter the ist number :\"))\n",
    "\n",
    "if (num>99 and num<1000):\n",
    "    print(\"number is a three digit number\")\n",
    "else:\n",
    "    print(\"number is not a three digit number\")"
   ]
  },
  {
   "cell_type": "markdown",
   "id": "b6fbb469",
   "metadata": {},
   "source": [
    "### 7. Write a python script to check whether a given number is positive, negative or zero.\n"
   ]
  },
  {
   "cell_type": "code",
   "execution_count": 34,
   "id": "e0b9d9d8",
   "metadata": {},
   "outputs": [
    {
     "name": "stdout",
     "output_type": "stream",
     "text": [
      "Enter the number :0\n",
      "nomber is zero\n"
     ]
    }
   ],
   "source": [
    "a = int(input(\"Enter the number :\"))\n",
    "if a>0:\n",
    "    print(\"number is positive\")\n",
    "elif a<0:\n",
    "    print(\"Number is negative\")\n",
    "else:\n",
    "    print(\"nomber is zero\")"
   ]
  },
  {
   "cell_type": "markdown",
   "id": "d88a07cf",
   "metadata": {},
   "source": [
    "### 8. Write a python script to check whether a given quadratic equation has two real & distinct roots, real & equal roots or imaginary roots\n"
   ]
  },
  {
   "cell_type": "code",
   "execution_count": 8,
   "id": "4e5b6738",
   "metadata": {},
   "outputs": [
    {
     "name": "stdout",
     "output_type": "stream",
     "text": [
      "Enter the value of a , b ,c of quadratic equation\n",
      "2\n",
      "4\n",
      "5\n",
      "Real and imaginary root\n"
     ]
    }
   ],
   "source": [
    "print(\"Enter the value of a , b ,c of quadratic equation\")\n",
    "a,b,c=int(input()),int(input()),int(input())\n",
    "d = b**2-4*a*c\n",
    "if d>0:\n",
    "    print(\"Real and distinct root\")\n",
    "elif d<0:\n",
    "    print(\"Real and imaginary root\")\n",
    "else:\n",
    "    print(\"Reall and equal root\")"
   ]
  },
  {
   "cell_type": "markdown",
   "id": "30f4f98f",
   "metadata": {},
   "source": [
    "### 9. Write a python script to check whether a given year is a leap year or not.\n"
   ]
  },
  {
   "cell_type": "code",
   "execution_count": 13,
   "id": "a887852e",
   "metadata": {},
   "outputs": [
    {
     "name": "stdout",
     "output_type": "stream",
     "text": [
      "Enter a year: 9000\n",
      "year is not a leap year\n"
     ]
    }
   ],
   "source": [
    "# Python program to check if year is a leap year or not\n",
    "\n",
    "year = int(input(\"Enter a year: \"))\n",
    "\n",
    "# divided by 100 means century year (ending with 00)\n",
    "# century year divided by 400 is leap year\n",
    "if (year % 400 == 0) and (year % 100 == 0):\n",
    "    print(\"year is leap year\")\n",
    "\n",
    "\n",
    "# year divided by 4 is a leap year\n",
    "elif (year % 4 ==0) and (year % 100 != 0):\n",
    "    print(\"year is leap year\")\n",
    "\n",
    "# if not divided by both 400 (century year) and 4 (not century year)\n",
    "# year is not leap year\n",
    "else:\n",
    "    print(\"year is not a leap year\")"
   ]
  },
  {
   "cell_type": "code",
   "execution_count": 12,
   "id": "8261eccc",
   "metadata": {},
   "outputs": [
    {
     "name": "stdout",
     "output_type": "stream",
     "text": [
      "Enter year number\n",
      "2020\n",
      "year is leap year\n"
     ]
    }
   ],
   "source": [
    "print(\"Enter year number\")\n",
    "year = int(input())\n",
    "if year%400==0 or year%100!=0 and year%4==0:\n",
    "    print(\"year is leap year\")\n",
    "else:\n",
    "    print(\"year is not a leap year\")"
   ]
  },
  {
   "cell_type": "markdown",
   "id": "97de5912",
   "metadata": {},
   "source": [
    "#There are 30 leap years between 1900 and 2020: 1904, 1908, 1912, 1916, 1920, 1924, 1928, 1932, 1936, 1940, 1944, 1948, 1952, 1956, 1960, 1964, 1968, 1972, 1976, 1980, 1984, 1988, 1992, 1996, 2000, 2004, 2008, 2012, 2016, 2020"
   ]
  },
  {
   "cell_type": "markdown",
   "id": "4e3d7064",
   "metadata": {},
   "source": [
    "### 10. Write a python script to print greater among three numbers. Print number only once even if the numbers are the same.\n"
   ]
  },
  {
   "cell_type": "code",
   "execution_count": 22,
   "id": "def3397a",
   "metadata": {},
   "outputs": [
    {
     "name": "stdout",
     "output_type": "stream",
     "text": [
      "Enter the ist number :3\n",
      "Enter the 2nd number :4\n",
      "Enter the 3rd number :5\n",
      "max num is : 5\n"
     ]
    }
   ],
   "source": [
    "a = int(input(\"Enter the ist number :\"))\n",
    "b = int(input(\"Enter the 2nd number :\"))\n",
    "c = int(input(\"Enter the 3rd number :\"))\n",
    "\n",
    "\n",
    "if a>b and a>c:\n",
    "    print(\"max num is :\",a)\n",
    "elif b>a and b>c:\n",
    "    print(\"max num is :\",b)\n",
    "elif c>a and c>b:\n",
    "    print(\"max num is :\",c)\n",
    "else:\n",
    "    print(\"numbers are equal :\",a)"
   ]
  },
  {
   "cell_type": "code",
   "execution_count": 13,
   "id": "bf007fdd",
   "metadata": {},
   "outputs": [
    {
     "name": "stdout",
     "output_type": "stream",
     "text": [
      "Enter three number\n",
      "3\n",
      "4\n",
      "5\n"
     ]
    },
    {
     "data": {
      "text/plain": [
       "[5]"
      ]
     },
     "execution_count": 13,
     "metadata": {},
     "output_type": "execute_result"
    }
   ],
   "source": [
    "#2nd method list comprensentation\n",
    "print(\"Enter three number\")\n",
    "a,b,c=int(input()),int(input()),int(input())\n",
    "[a if a>c else c if a>b else b if b>c else c]"
   ]
  },
  {
   "cell_type": "markdown",
   "id": "d5b0dea6",
   "metadata": {},
   "source": [
    "### 11. Write a python script to take the month value in numeric format and display the number of days in it.\n"
   ]
  },
  {
   "cell_type": "code",
   "execution_count": 17,
   "id": "13447fb1",
   "metadata": {},
   "outputs": [
    {
     "name": "stdout",
     "output_type": "stream",
     "text": [
      "Enter the month number3\n",
      "Number of days is 31\n"
     ]
    }
   ],
   "source": [
    "month = int(input(\"Enter the month number\"))\n",
    "if (month == 1) or (month == 3) or (month == 5) or (month == 7) or (month == 8) or (month == 10) or (month == 12):\n",
    "    print(\"Number of days is 31\")\n",
    "elif month == 2:\n",
    "    print(\"Number of days is 28\")\n",
    "elif (month == 4) or (month == 6) or (month == 9) or (month == 11):\n",
    "    print(\"Number of days is 30\")\n",
    "else:\n",
    "    print(\"invalid month number\")"
   ]
  },
  {
   "cell_type": "code",
   "execution_count": 16,
   "id": "20925f4d",
   "metadata": {},
   "outputs": [
    {
     "name": "stdout",
     "output_type": "stream",
     "text": [
      "Enter the month number4\n",
      "30 days\n"
     ]
    }
   ],
   "source": [
    "month = int(input(\"Enter the month number\"))\n",
    "if month in (1,3,5,7,8,10,12):\n",
    "    print(\"31 days\")\n",
    "elif month in (4,6,9,11):\n",
    "    print(\"30 days\")\n",
    "elif month==2:\n",
    "    print(\"28 days or 29 days\")\n",
    "else:\n",
    "    print(\"invalid month number\")"
   ]
  },
  {
   "cell_type": "markdown",
   "id": "e20f6797",
   "metadata": {},
   "source": [
    "### 12. Write a python script to accept one complex number from the user and display the greater number between real part and imaginary part"
   ]
  },
  {
   "cell_type": "code",
   "execution_count": 37,
   "id": "5cb04ec8",
   "metadata": {},
   "outputs": [
    {
     "data": {
      "text/plain": [
       "complex"
      ]
     },
     "execution_count": 37,
     "metadata": {},
     "output_type": "execute_result"
    }
   ],
   "source": [
    "x = 2+3j\n",
    "type(x)"
   ]
  },
  {
   "cell_type": "code",
   "execution_count": 38,
   "id": "63ab4741",
   "metadata": {},
   "outputs": [
    {
     "data": {
      "text/plain": [
       "2.0"
      ]
     },
     "execution_count": 38,
     "metadata": {},
     "output_type": "execute_result"
    }
   ],
   "source": [
    "x.real"
   ]
  },
  {
   "cell_type": "code",
   "execution_count": 39,
   "id": "1061519e",
   "metadata": {},
   "outputs": [
    {
     "data": {
      "text/plain": [
       "3.0"
      ]
     },
     "execution_count": 39,
     "metadata": {},
     "output_type": "execute_result"
    }
   ],
   "source": [
    "x.imag"
   ]
  },
  {
   "cell_type": "code",
   "execution_count": 42,
   "id": "c908a527",
   "metadata": {},
   "outputs": [
    {
     "name": "stdout",
     "output_type": "stream",
     "text": [
      "Enter the complex number :2+3j\n",
      "imaginary number is greater\n"
     ]
    }
   ],
   "source": [
    "x = eval(input(\"Enter the complex number :\"))\n",
    "if x.real > x.imag:\n",
    "    print(\"Real number is greater\")\n",
    "elif x.real < x.imag:\n",
    "    print(\"imaginary number is greater\")\n",
    "else:\n",
    "    print(\"both are equal\")\n",
    "    "
   ]
  },
  {
   "cell_type": "code",
   "execution_count": 18,
   "id": "edd3dc07",
   "metadata": {},
   "outputs": [
    {
     "name": "stdout",
     "output_type": "stream",
     "text": [
      "Enter the complex number :2+3j\n"
     ]
    },
    {
     "data": {
      "text/plain": [
       "3.0"
      ]
     },
     "execution_count": 18,
     "metadata": {},
     "output_type": "execute_result"
    }
   ],
   "source": [
    "#2nd method list comprenhension\n",
    "x = eval(input(\"Enter the complex number :\"))\n",
    "x.real if x.real>x.imag else x.imag "
   ]
  },
  {
   "cell_type": "code",
   "execution_count": null,
   "id": "484dd1e0",
   "metadata": {},
   "outputs": [],
   "source": []
  }
 ],
 "metadata": {
  "kernelspec": {
   "display_name": "Python 3 (ipykernel)",
   "language": "python",
   "name": "python3"
  },
  "language_info": {
   "codemirror_mode": {
    "name": "ipython",
    "version": 3
   },
   "file_extension": ".py",
   "mimetype": "text/x-python",
   "name": "python",
   "nbconvert_exporter": "python",
   "pygments_lexer": "ipython3",
   "version": "3.9.12"
  }
 },
 "nbformat": 4,
 "nbformat_minor": 5
}
