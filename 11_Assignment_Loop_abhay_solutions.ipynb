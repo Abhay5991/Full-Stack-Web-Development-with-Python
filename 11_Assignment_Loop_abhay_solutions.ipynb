{
 "cells": [
  {
   "cell_type": "markdown",
   "id": "94972d9c",
   "metadata": {},
   "source": [
    "### 1. Write a python script to calculate sum of first N natural numbers\n"
   ]
  },
  {
   "cell_type": "code",
   "execution_count": 18,
   "id": "9907141c",
   "metadata": {},
   "outputs": [
    {
     "name": "stdout",
     "output_type": "stream",
     "text": [
      "Please Enter any Number: 10\n",
      "The Sum of Natural Numbers from 1 to 10 =  55\n"
     ]
    }
   ],
   "source": [
    "#using while loop\n",
    "number = int(input(\"Please Enter any Number: \"))\n",
    "\n",
    "total = 0\n",
    "i = 1\n",
    "\n",
    "while (i <= number):\n",
    "    total = total + i\n",
    "    i+=1\n",
    "\n",
    "print(\"The Sum of Natural Numbers from 1 to {0} =  {1}\".format(number, total))"
   ]
  },
  {
   "cell_type": "code",
   "execution_count": 19,
   "id": "171e498e",
   "metadata": {},
   "outputs": [
    {
     "name": "stdout",
     "output_type": "stream",
     "text": [
      "Please Enter any Number: 10\n",
      "The Sum of Natural Numbers from 1 to 10 =  55\n"
     ]
    }
   ],
   "source": [
    "#using for loop\n",
    "num = int(input(\"Please Enter any Number: \"))\n",
    "total = 0\n",
    "\n",
    "for i in range(1, num + 1):\n",
    "    total = total + i\n",
    "\n",
    "print(\"The Sum of Natural Numbers from 1 to {0} =  {1}\".format(number, total))"
   ]
  },
  {
   "cell_type": "markdown",
   "id": "37d11663",
   "metadata": {},
   "source": [
    "### 2. Write a python script to calculate sum of squares of first N natural numbers"
   ]
  },
  {
   "cell_type": "code",
   "execution_count": 32,
   "id": "82dd850c",
   "metadata": {},
   "outputs": [
    {
     "name": "stdout",
     "output_type": "stream",
     "text": [
      "Please Enter any Number: 4\n",
      "The sum of squares of Natural Numbers from 1 to 4 =  30\n"
     ]
    }
   ],
   "source": [
    "#using while loop\n",
    "number = int(input(\"Please Enter any Number: \"))\n",
    "\n",
    "total = 0\n",
    "i = 1\n",
    "\n",
    "while (i <= number):\n",
    "    total = total + i*i\n",
    "    i+=1\n",
    "\n",
    "print(\"The sum of squares of Natural Numbers from 1 to {0} =  {1}\".format(number, total))"
   ]
  },
  {
   "cell_type": "code",
   "execution_count": 33,
   "id": "97c5089f",
   "metadata": {},
   "outputs": [
    {
     "name": "stdout",
     "output_type": "stream",
     "text": [
      "Please Enter any Number: 4\n",
      "The sum of squares of Natural Numbers from 1 to 4 =  30\n"
     ]
    }
   ],
   "source": [
    "#using for loop\n",
    "num = int(input(\"Please Enter any Number: \"))\n",
    "total = 0\n",
    "\n",
    "for i in range(1, num + 1):\n",
    "    total = total + i*i\n",
    "\n",
    "print(\"The sum of squares of Natural Numbers from 1 to {0} =  {1}\".format(number, total))"
   ]
  },
  {
   "cell_type": "markdown",
   "id": "e6622564",
   "metadata": {},
   "source": [
    "### 3. Write a python script to calculate sum of cubes of first N natural numbers\n"
   ]
  },
  {
   "cell_type": "code",
   "execution_count": 34,
   "id": "7ecbf535",
   "metadata": {},
   "outputs": [
    {
     "name": "stdout",
     "output_type": "stream",
     "text": [
      "Please Enter any Number: 3\n",
      "The Sum of cubes Natural Numbers from 1 to 3 =  18\n"
     ]
    }
   ],
   "source": [
    "#using while loop\n",
    "number = int(input(\"Please Enter any Number: \"))\n",
    "\n",
    "total = 0\n",
    "i = 1\n",
    "\n",
    "while (i <= number):\n",
    "    total = total + i*3\n",
    "    i+=1\n",
    "\n",
    "print(\"The Sum of cubes Natural Numbers from 1 to {0} =  {1}\".format(number, total))"
   ]
  },
  {
   "cell_type": "code",
   "execution_count": 35,
   "id": "6e500b68",
   "metadata": {},
   "outputs": [
    {
     "name": "stdout",
     "output_type": "stream",
     "text": [
      "Please Enter any Number: 3\n",
      "The Sum of cubes Natural Numbers from 1 to 3 =  18\n"
     ]
    }
   ],
   "source": [
    "#using for loop\n",
    "num = int(input(\"Please Enter any Number: \"))\n",
    "total = 0\n",
    "\n",
    "for i in range(1, num + 1):\n",
    "    total = total + i*3\n",
    "\n",
    "print(\"The Sum of cubes Natural Numbers from 1 to {0} =  {1}\".format(number, total))"
   ]
  },
  {
   "cell_type": "markdown",
   "id": "47aff44d",
   "metadata": {},
   "source": [
    "### 4. Write a python script to calculate sum of first N odd natural numbers"
   ]
  },
  {
   "cell_type": "code",
   "execution_count": 37,
   "id": "242129fa",
   "metadata": {},
   "outputs": [
    {
     "name": "stdout",
     "output_type": "stream",
     "text": [
      "Please Enter any Number: 5\n",
      "The Sum of odd Natural Numbers from 1 to 5 =  9\n"
     ]
    }
   ],
   "source": [
    "#using while loop\n",
    "number = int(input(\"Please Enter any Number: \"))\n",
    "\n",
    "total = 0\n",
    "i = 1\n",
    "\n",
    "while (i <= number):\n",
    "    if i%2!=0:\n",
    "        total = total + i\n",
    "    \n",
    "    i+=1\n",
    "\n",
    "print(\"The Sum of odd Natural Numbers from 1 to {0} =  {1}\".format(number, total))"
   ]
  },
  {
   "cell_type": "code",
   "execution_count": 39,
   "id": "5cfaea5e",
   "metadata": {},
   "outputs": [
    {
     "name": "stdout",
     "output_type": "stream",
     "text": [
      "Please Enter any Number: 5\n",
      "The Sum of odd Natural Numbers from 1 to 5 =  9\n"
     ]
    }
   ],
   "source": [
    "#using for loop\n",
    "num = int(input(\"Please Enter any Number: \"))\n",
    "total = 0\n",
    "\n",
    "for i in range(1, num + 1):\n",
    "    if i%2!=0:\n",
    "        total = total + i\n",
    "    \n",
    "\n",
    "print(\"The Sum of odd Natural Numbers from 1 to {0} =  {1}\".format(number, total))"
   ]
  },
  {
   "cell_type": "markdown",
   "id": "b319bd99",
   "metadata": {},
   "source": [
    "### 5. Write a python script to calculate sum of first N even natural numbers"
   ]
  },
  {
   "cell_type": "code",
   "execution_count": 40,
   "id": "1104628c",
   "metadata": {},
   "outputs": [
    {
     "name": "stdout",
     "output_type": "stream",
     "text": [
      "Please Enter any Number: 5\n",
      "The Sum of even Natural Numbers from 1 to 5 =  6\n"
     ]
    }
   ],
   "source": [
    "#using while loop\n",
    "number = int(input(\"Please Enter any Number: \"))\n",
    "\n",
    "total = 0\n",
    "i = 1\n",
    "\n",
    "while (i <= number):\n",
    "    if i%2==0:\n",
    "        total = total + i\n",
    "    \n",
    "    i+=1\n",
    "\n",
    "print(\"The Sum of even Natural Numbers from 1 to {0} =  {1}\".format(number, total))"
   ]
  },
  {
   "cell_type": "code",
   "execution_count": 41,
   "id": "2167de45",
   "metadata": {},
   "outputs": [
    {
     "name": "stdout",
     "output_type": "stream",
     "text": [
      "Please Enter any Number: 5\n",
      "The Sum of even Natural Numbers from 1 to 5 =  6\n"
     ]
    }
   ],
   "source": [
    "#using for loop\n",
    "num = int(input(\"Please Enter any Number: \"))\n",
    "total = 0\n",
    "\n",
    "for i in range(1, num + 1):\n",
    "    if i%2==0:\n",
    "        total = total + i\n",
    "    \n",
    "\n",
    "print(\"The Sum of even Natural Numbers from 1 to {0} =  {1}\".format(number, total))"
   ]
  },
  {
   "cell_type": "markdown",
   "id": "808b708e",
   "metadata": {},
   "source": [
    "### 6. Write a python script to calculate factorial of a given number\n"
   ]
  },
  {
   "cell_type": "code",
   "execution_count": 96,
   "id": "a6b138e7",
   "metadata": {},
   "outputs": [
    {
     "name": "stdout",
     "output_type": "stream",
     "text": [
      "Enter a number: 4\n",
      "The factorial of 4 is 24\n"
     ]
    }
   ],
   "source": [
    "# To take input from the user\n",
    "num = int(input(\"Enter a number: \"))\n",
    "\n",
    "factorial = 1\n",
    "\n",
    "# check if the number is negative, positive or zero\n",
    "if num < 0:\n",
    "   print(\"Sorry, factorial does not exist for negative numbers\")\n",
    "elif num == 0 or num ==1:\n",
    "   print(\"The factorial of 0 is 1\")\n",
    "else:\n",
    "   for i in range(1,num + 1):\n",
    "       factorial = factorial*i\n",
    "   print(\"The factorial of\",num,\"is\",factorial)\n"
   ]
  },
  {
   "cell_type": "code",
   "execution_count": 78,
   "id": "81c54165",
   "metadata": {},
   "outputs": [
    {
     "name": "stdout",
     "output_type": "stream",
     "text": [
      "enter a number: 6\n",
      "Factorial of the number 6 is 720\n"
     ]
    }
   ],
   "source": [
    "num = int(input(\"enter a number: \"))\n",
    " \n",
    "fact = 1\n",
    "i = 1\n",
    " \n",
    "while i <= num:\n",
    "    fact = fact * i\n",
    "    i = i + 1\n",
    "    \n",
    "print (\"Factorial of the number %d is %d\" %(num, fact))"
   ]
  },
  {
   "cell_type": "code",
   "execution_count": 101,
   "id": "235ace66",
   "metadata": {},
   "outputs": [
    {
     "name": "stdout",
     "output_type": "stream",
     "text": [
      "Enter a number to find factorial: -4\n",
      "Factorial does not defined for negative integer\n"
     ]
    }
   ],
   "source": [
    "#using while loop\n",
    "\n",
    "#takes input from user\n",
    "num=int(input(\"Enter a number to find factorial: \"))\n",
    "\n",
    "#declare and initialize factorial variable to one\n",
    "factorial=1;  \n",
    "\n",
    "\n",
    "#check if the number is negetive ,positive or zero\n",
    "if num<0:\n",
    "    print(\"Factorial does not defined for negative integer\");\n",
    "elif(num==0):\n",
    "    print(\"The factorial of 0 is 1\");\n",
    "else:\n",
    "    while(num>0):\n",
    "        factorial=factorial*num\n",
    "        \n",
    "        num=num-1\n",
    "        \n",
    "    print(\"factorial of the given number is: \",factorial)\n",
    "  "
   ]
  },
  {
   "cell_type": "markdown",
   "id": "bba7aca7",
   "metadata": {},
   "source": [
    "### 7. Write a python script to count digits in a given number\n"
   ]
  },
  {
   "cell_type": "code",
   "execution_count": 120,
   "id": "93572fa2",
   "metadata": {},
   "outputs": [
    {
     "name": "stdout",
     "output_type": "stream",
     "text": [
      "Please Enter any Number: 3456\n",
      "\n",
      " Number of Digits in a Given Number = 4\n"
     ]
    }
   ],
   "source": [
    "# using While loop\n",
    "\n",
    "num = int(input(\"Please Enter any Number: \"))\n",
    "Count = 0\n",
    "while(num > 0):\n",
    "    num = num // 10\n",
    "    Count = Count + 1\n",
    "\n",
    "print(\"\\n Number of Digits in a Given Number = %d\" %Count)"
   ]
  },
  {
   "cell_type": "markdown",
   "id": "7bd1052b",
   "metadata": {},
   "source": [
    "### 8. Write a python script to calculate sum of digits of a given number"
   ]
  },
  {
   "cell_type": "code",
   "execution_count": 135,
   "id": "8246090c",
   "metadata": {},
   "outputs": [
    {
     "name": "stdout",
     "output_type": "stream",
     "text": [
      "Enter a number: 345\n",
      "12\n"
     ]
    }
   ],
   "source": [
    "# using for loop\n",
    "\n",
    "num = int(input(\"Enter a number: \"))\n",
    "sum = 0\n",
    "for digit in str(num): \n",
    "  sum += int(digit)      \n",
    "print(sum)"
   ]
  },
  {
   "cell_type": "code",
   "execution_count": 137,
   "id": "b97f1846",
   "metadata": {},
   "outputs": [
    {
     "name": "stdout",
     "output_type": "stream",
     "text": [
      "Enter a number: 345\n",
      "12\n"
     ]
    }
   ],
   "source": [
    "# using While loop\n",
    "\n",
    "n = int(input(\"Enter a number: \"))\n",
    "sum = 0\n",
    "while (n != 0):\n",
    "    sum = sum + (n % 10)\n",
    "    n = n//10\n",
    "print(sum)"
   ]
  },
  {
   "cell_type": "markdown",
   "id": "b387c71e",
   "metadata": {},
   "source": [
    "### 9. Write a python script to print binary equivalent of a given decimal number. (do not use bin() method)\n"
   ]
  },
  {
   "cell_type": "code",
   "execution_count": 144,
   "id": "a98b16ef",
   "metadata": {},
   "outputs": [
    {
     "name": "stdout",
     "output_type": "stream",
     "text": [
      "Enter a number: 24\n",
      "00110"
     ]
    }
   ],
   "source": [
    "num = int(input(\"Enter a number: \"))\n",
    "while num >= 1:\n",
    "    num =(num // 2)\n",
    "    print(num % 2,end='') \n",
    "            "
   ]
  },
  {
   "cell_type": "code",
   "execution_count": 151,
   "id": "20c5ef7d",
   "metadata": {},
   "outputs": [
    {
     "name": "stdout",
     "output_type": "stream",
     "text": [
      "Enter a number: 7\n",
      "The Binary value of the given decimal number { 0 } is:  111\n"
     ]
    }
   ],
   "source": [
    "num = int(input(\"Enter a number: \"))\n",
    "a = 1\n",
    "binry_num = 0\n",
    "while (num != 0):\n",
    "  # Inside the loop, calculate the value of the given number modulus 2 and\n",
    "    # store it in a variable remdr.\n",
    "    remdr = num % 2\n",
    "  # Divide the given number by 2 and store it in the same variable num.\n",
    "    num = num // 2\n",
    "    # Multiply a with the remdr and store it in another variable b\n",
    "    b = (remdr * a)\n",
    "    # Add b to the binry_num and convert to int using the int() function.\n",
    "    # Store it in the same variable binry_num.\n",
    "    binry_num = int(binry_num + b)\n",
    "    # Multiply a with 10 and Store it in the same variable 'a'.\n",
    "    a = int(a * 10)\n",
    " # Print the binry_num to get the binary value of the given decimal number.\n",
    "print(\"The Binary value of the given decimal number {\", num, \"} is: \",binry_num)\n",
    "\n"
   ]
  },
  {
   "cell_type": "markdown",
   "id": "13420668",
   "metadata": {},
   "source": [
    "### 10. Write a python script to print the octal equivalent of a given decimal number. (do not use oct() method)"
   ]
  },
  {
   "cell_type": "code",
   "execution_count": 153,
   "id": "51fca5ed",
   "metadata": {},
   "outputs": [
    {
     "name": "stdout",
     "output_type": "stream",
     "text": [
      "Enter some random number = 34\n",
      "The Octal value of the given decimal number { 0 } is:  42\n"
     ]
    }
   ],
   "source": [
    "#using while loop\n",
    "gvn_numb = int(input(\"Enter some random number = \"))\n",
    "a = 1\n",
    "octl_num = 0\n",
    "while(gvn_numb != 0):\n",
    "  # Multiply 'a' with the given number modulus 8 and store it in a variable say 'b'.\n",
    "    b = (gvn_numb % 8)*a\n",
    "  # Add the above-got b to the octl_num and store it in the same variable octl_num.\n",
    "    octl_num = octl_num+b\n",
    "    gvn_numb = gvn_numb//8\n",
    "    a = int(a*10)\n",
    "\n",
    "print(\"The Octal value of the given decimal number {\", gvn_numb, \"} is: \",octl_num)"
   ]
  },
  {
   "cell_type": "code",
   "execution_count": null,
   "id": "479b65ba",
   "metadata": {},
   "outputs": [],
   "source": []
  }
 ],
 "metadata": {
  "kernelspec": {
   "display_name": "Python 3 (ipykernel)",
   "language": "python",
   "name": "python3"
  },
  "language_info": {
   "codemirror_mode": {
    "name": "ipython",
    "version": 3
   },
   "file_extension": ".py",
   "mimetype": "text/x-python",
   "name": "python",
   "nbconvert_exporter": "python",
   "pygments_lexer": "ipython3",
   "version": "3.9.12"
  }
 },
 "nbformat": 4,
 "nbformat_minor": 5
}
