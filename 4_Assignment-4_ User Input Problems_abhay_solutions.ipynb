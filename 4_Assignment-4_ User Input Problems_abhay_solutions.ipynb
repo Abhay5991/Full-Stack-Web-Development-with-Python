{
 "cells": [
  {
   "cell_type": "markdown",
   "id": "a4840452",
   "metadata": {},
   "source": [
    "### 1. Write a python script to take your name as input from the user and then print it"
   ]
  },
  {
   "cell_type": "code",
   "execution_count": 2,
   "id": "893d076e",
   "metadata": {},
   "outputs": [
    {
     "name": "stdout",
     "output_type": "stream",
     "text": [
      "Enter your name :abhay\n",
      "your name is : abhay\n"
     ]
    }
   ],
   "source": [
    "name = input(\"Enter your name :\")\n",
    "print(\"your name is :\",name)"
   ]
  },
  {
   "cell_type": "markdown",
   "id": "bc73cbaa",
   "metadata": {},
   "source": [
    "### 2. Write a python script to take input from the user. Input must be a number"
   ]
  },
  {
   "cell_type": "code",
   "execution_count": 4,
   "id": "136cf2f8",
   "metadata": {},
   "outputs": [
    {
     "name": "stdout",
     "output_type": "stream",
     "text": [
      "enter a number :12\n",
      "ypur entered number is: 12\n"
     ]
    }
   ],
   "source": [
    "user_input = int(input(\"enter a number :\"))\n",
    "print(\"ypur entered number is:\",user_input)"
   ]
  },
  {
   "cell_type": "markdown",
   "id": "b27c15af",
   "metadata": {},
   "source": [
    "### 3. Write a python script which takes two numbers from the user, then calculate their sum and display the result.\n"
   ]
  },
  {
   "cell_type": "code",
   "execution_count": 7,
   "id": "cdc48897",
   "metadata": {},
   "outputs": [
    {
     "name": "stdout",
     "output_type": "stream",
     "text": [
      "Enter first number :11\n",
      "your 1st num is : 11\n",
      "Enter 2nd number :11\n",
      "your 2nd num is : 11\n",
      "Total sum is : 22\n"
     ]
    }
   ],
   "source": [
    "fst_num =int(input(\"Enter first number :\"))\n",
    "print(\"your 1st num is :\",fst_num)\n",
    "snd_num =int(input(\"Enter 2nd number :\"))\n",
    "print(\"your 2nd num is :\",snd_num)\n",
    "sum = fst_num + snd_num\n",
    "print(\"Total sum is :\",sum)"
   ]
  },
  {
   "cell_type": "markdown",
   "id": "14045d6d",
   "metadata": {},
   "source": [
    "### 4. Write a python script which takes the radius from the user and display area of a circle"
   ]
  },
  {
   "cell_type": "code",
   "execution_count": 16,
   "id": "5dddb1b1",
   "metadata": {},
   "outputs": [
    {
     "name": "stdout",
     "output_type": "stream",
     "text": [
      "Enter radius of circle :5\n",
      "your radius is : 5.0\n",
      "Area of circle is : 78.53981633974483\n"
     ]
    }
   ],
   "source": [
    "from math import pi\n",
    "r =float(input(\"Enter radius of circle :\"))\n",
    "print(\"your radius is :\", r)\n",
    "area = pi*r**2\n",
    "print(\"Area of circle is :\",area)"
   ]
  },
  {
   "cell_type": "markdown",
   "id": "d71adb21",
   "metadata": {},
   "source": [
    "### 5. Write a python script to calculate the square of a number. Number is entered by the user.\n"
   ]
  },
  {
   "cell_type": "code",
   "execution_count": 1,
   "id": "bd2b7d9c",
   "metadata": {},
   "outputs": [
    {
     "name": "stdout",
     "output_type": "stream",
     "text": [
      "Enter the number :3\n",
      "Entered Numbered is  3\n",
      "Squar is : 9\n"
     ]
    }
   ],
   "source": [
    "num = int(input(\"Enter the number :\"))\n",
    "print(\"Entered Numbered is \",num)\n",
    "squar = num**2\n",
    "print(\"Squar is :\",squar)"
   ]
  },
  {
   "cell_type": "markdown",
   "id": "f1d213ba",
   "metadata": {},
   "source": [
    "### 6. Write a python script to calculate the area of Triangle. Number is entered by the user.\n"
   ]
  },
  {
   "cell_type": "code",
   "execution_count": 30,
   "id": "0e984bce",
   "metadata": {},
   "outputs": [
    {
     "name": "stdout",
     "output_type": "stream",
     "text": [
      "Enter the value of b :4\n",
      "Entered Numbered b is : 4\n",
      "Enter the value of h :5\n",
      "Entered Numbered h is : 5\n",
      "area of triangle : 10.0\n"
     ]
    }
   ],
   "source": [
    "#if base(b) and height(h) are given\n",
    "b = int(input(\"Enter the value of b :\"))\n",
    "print(\"Entered Numbered b is :\",b)\n",
    "h = int(input(\"Enter the value of h :\"))\n",
    "print(\"Entered Numbered h is :\",h)\n",
    "area_triangle =  (b * h)/2\n",
    "print(\"area of triangle :\",area_triangle)"
   ]
  },
  {
   "cell_type": "markdown",
   "id": "01b1e925",
   "metadata": {},
   "source": [
    "### 7. Write a python script to calculate average of three numbers, entered by the user"
   ]
  },
  {
   "cell_type": "code",
   "execution_count": 2,
   "id": "541b29db",
   "metadata": {},
   "outputs": [
    {
     "name": "stdout",
     "output_type": "stream",
     "text": [
      "Enter the value of istnum :2\n",
      "Entered ist Numbered is : 2\n",
      "Enter the value of 2nd :3\n",
      "Entered 2nd Numbered  is : 3\n",
      "Enter the value of num3 :4\n",
      "Entered 3rd Numbered is : 4\n",
      "Average of three numbers a,b,c are : 4.5\n"
     ]
    }
   ],
   "source": [
    "num1 = int(input(\"Enter the value of istnum :\"))\n",
    "print(\"Entered ist Numbered is :\",num1)\n",
    "num2 = int(input(\"Enter the value of 2nd :\"))\n",
    "print(\"Entered 2nd Numbered  is :\",num2)\n",
    "num3 = int(input(\"Enter the value of num3 :\"))\n",
    "print(\"Entered 3rd Numbered is :\",num3)\n",
    "sum = num1+num2+num3\n",
    "average =sum/2\n",
    "print(\"Average of three numbers a,b,c are :\" ,average)"
   ]
  },
  {
   "cell_type": "markdown",
   "id": "ae8317cf",
   "metadata": {},
   "source": [
    "### 8. Write a python script to calculate simple interest\n"
   ]
  },
  {
   "cell_type": "code",
   "execution_count": 36,
   "id": "fe362ac2",
   "metadata": {},
   "outputs": [
    {
     "name": "stdout",
     "output_type": "stream",
     "text": [
      "Enter the value of principal :1000\n",
      "Entered principal value is : 1000\n",
      "Enter the value of rate :10\n",
      "Entered rate is : 10\n",
      "Enter the value of time :1\n",
      "Entered time is : 1\n",
      "Simple interest is : 100.0\n"
     ]
    }
   ],
   "source": [
    "principal = int(input(\"Enter the value of principal :\"))\n",
    "print(\"Entered principal value is :\",principal)\n",
    "rate = int(input(\"Enter the value of rate :\"))\n",
    "print(\"Entered rate is :\",rate)\n",
    "time = int(input(\"Enter the value of time :\"))\n",
    "print(\"Entered time is :\",time)\n",
    "simple_interest = (principal*rate*time)/100\n",
    "print(\"Simple interest is :\" ,simple_interest)"
   ]
  },
  {
   "cell_type": "markdown",
   "id": "c3c9bd01",
   "metadata": {},
   "source": [
    "### 9. Write a python script to calculate the volume of a cuboid.\n"
   ]
  },
  {
   "cell_type": "code",
   "execution_count": 38,
   "id": "10b51f59",
   "metadata": {},
   "outputs": [
    {
     "name": "stdout",
     "output_type": "stream",
     "text": [
      "Enter the value of length :2\n",
      "Entered length value is : 2\n",
      "Enter the value of width  :2\n",
      "Entered width  is : 2\n",
      "Enter the value of height :2\n",
      "Entered height is : 2\n",
      "Volume of the Cuboid  is : 8\n"
     ]
    }
   ],
   "source": [
    "length = int(input(\"Enter the value of length :\"))\n",
    "print(\"Entered length value is :\",length)\n",
    "width  = int(input(\"Enter the value of width  :\"))\n",
    "print(\"Entered width  is :\",width )\n",
    "height = int(input(\"Enter the value of height :\"))\n",
    "print(\"Entered height is :\",height)\n",
    "Volume_Cuboid  = length*width*height\n",
    "print(\"Volume of the Cuboid  is :\" ,Volume_Cuboid)"
   ]
  },
  {
   "cell_type": "markdown",
   "id": "55e80f12",
   "metadata": {},
   "source": [
    "### 10. Write a python script to calculate area of a rectangle"
   ]
  },
  {
   "cell_type": "code",
   "execution_count": 39,
   "id": "b02eb77a",
   "metadata": {},
   "outputs": [
    {
     "name": "stdout",
     "output_type": "stream",
     "text": [
      "Enter the value of width  :2\n",
      "Entered width  is : 2\n",
      "Enter the value of height :3\n",
      "Entered height is : 3\n",
      "area of a rectangle  is : 6\n"
     ]
    }
   ],
   "source": [
    "width  = int(input(\"Enter the value of width  :\"))\n",
    "print(\"Entered width  is :\",width )\n",
    "height = int(input(\"Enter the value of height :\"))\n",
    "print(\"Entered height is :\",height)\n",
    "area_rectangle  = width*height\n",
    "print(\"area of a rectangle  is :\" ,area_rectangle)"
   ]
  },
  {
   "cell_type": "code",
   "execution_count": null,
   "id": "54f6985e",
   "metadata": {},
   "outputs": [],
   "source": []
  }
 ],
 "metadata": {
  "kernelspec": {
   "display_name": "Python 3 (ipykernel)",
   "language": "python",
   "name": "python3"
  },
  "language_info": {
   "codemirror_mode": {
    "name": "ipython",
    "version": 3
   },
   "file_extension": ".py",
   "mimetype": "text/x-python",
   "name": "python",
   "nbconvert_exporter": "python",
   "pygments_lexer": "ipython3",
   "version": "3.9.12"
  }
 },
 "nbformat": 4,
 "nbformat_minor": 5
}
