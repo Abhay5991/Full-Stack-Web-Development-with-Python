{
 "cells": [
  {
   "cell_type": "markdown",
   "id": "a434b66e",
   "metadata": {},
   "source": [
    " ### 1. Write a python script to display the number of days in a given month number.\n"
   ]
  },
  {
   "cell_type": "code",
   "execution_count": 1,
   "id": "fd7f0b88",
   "metadata": {},
   "outputs": [
    {
     "ename": "SyntaxError",
     "evalue": "invalid syntax (1592053541.py, line 2)",
     "output_type": "error",
     "traceback": [
      "\u001b[1;36m  Input \u001b[1;32mIn [1]\u001b[1;36m\u001b[0m\n\u001b[1;33m    match month:\u001b[0m\n\u001b[1;37m          ^\u001b[0m\n\u001b[1;31mSyntaxError\u001b[0m\u001b[1;31m:\u001b[0m invalid syntax\n"
     ]
    }
   ],
   "source": [
    "month=int(input(\"Enter the month\"))\n",
    "match month:\n",
    "    case month if month in (1,3,5,7,8,10,12):\n",
    "        print(\"31 days\")\n",
    "    case month if month in (4,6,9,11):\n",
    "        print(\"30 days\")\n",
    "    case 2:\n",
    "        print(\"28 or 29 days\")\n",
    "    case _:\n",
    "        print(\"invalid days\")\n",
    "    "
   ]
  },
  {
   "cell_type": "markdown",
   "id": "b1470e97",
   "metadata": {},
   "source": [
    "### 2. Write a menu driven program to perform following operations - Addition, Subtraction, Multiplication, Division\n"
   ]
  },
  {
   "cell_type": "code",
   "execution_count": 4,
   "id": "ee3edbbd",
   "metadata": {},
   "outputs": [
    {
     "ename": "SyntaxError",
     "evalue": "invalid syntax (1311269843.py, line 7)",
     "output_type": "error",
     "traceback": [
      "\u001b[1;36m  Input \u001b[1;32mIn [4]\u001b[1;36m\u001b[0m\n\u001b[1;33m    match choice:\u001b[0m\n\u001b[1;37m          ^\u001b[0m\n\u001b[1;31mSyntaxError\u001b[0m\u001b[1;31m:\u001b[0m invalid syntax\n"
     ]
    }
   ],
   "source": [
    "print(\"1 : for addition\")\n",
    "print(\"2 : for subtraction\")\n",
    "print(\"3 : for multiplication\")\n",
    "print(\"4 : for division\")\n",
    "print(\"Enter your choice\")\n",
    "choice = int(input())\n",
    "match choice:\n",
    "    case 1:\n",
    "        print(\"Enter two number\")\n",
    "        a,b=int(input()),int(input())\n",
    "        c=a+b\n",
    "        print(\"Sum is :\",c)\n",
    "    case 2:\n",
    "        print(\"Enter two number\")\n",
    "        a,b=int(input()),int(input())\n",
    "        c=a-b\n",
    "        print(\"subtraction is :\",c)\n",
    "    case 3:\n",
    "        print(\"Enter two number\")\n",
    "        a,b=int(input()),int(input())\n",
    "        c=a*b\n",
    "        print(\"multiplication is :\",c)\n",
    "    case 4:\n",
    "        print(\"Enter two number\")\n",
    "        a,b=int(input()),int(input())\n",
    "        c=a/b\n",
    "        print(\"division is :\",c)\n",
    "    case _:\n",
    "        print(\"invalid choice\")\n",
    "        "
   ]
  },
  {
   "cell_type": "code",
   "execution_count": 2,
   "id": "011199e8",
   "metadata": {},
   "outputs": [
    {
     "name": "stdout",
     "output_type": "stream",
     "text": [
      "Enter the first number2\n",
      "Enter the second number3\n",
      "Enter 1 for addition or Enter 2 for Subtraction or Enter 3 for Multiplication or Enter 4 for Division1\n",
      "Addition of num is 5\n"
     ]
    }
   ],
   "source": [
    "#using if else \n",
    "a=int(input(\"Enter the first number\"))\n",
    "b=int(input(\"Enter the second number\"))\n",
    "c=int(input(\"Enter 1 for addition or Enter 2 for Subtraction or Enter 3 for Multiplication or Enter 4 for Division\"))\n",
    "if c==1:\n",
    "      add=a+b\n",
    "      print(\"Addition of num is\",add)       \n",
    "if c==2:\n",
    "      sub=a-b\n",
    "      print(\"subtraction of num is\",sub)   \n",
    "if c==3:\n",
    "      mul=a*b\n",
    "      print(\"Multiplication of num is\",mul)\n",
    "if c==4:\n",
    "      div=a/b\n",
    "      print(\"Division of num is\",div)"
   ]
  },
  {
   "cell_type": "markdown",
   "id": "86cde7a7",
   "metadata": {},
   "source": [
    "### - 3. Write a menu driven program with the following options:\n",
    " - a. Check whether a given set of three numbers are lengths of an isosceles triangle or not\n",
    " - b. Check whether a given set of three numbers are lengths of sides of a right angled triangle or not\n",
    " - c. Check whether a given set of three numbers are equilateral triangle or not\n",
    " - d. Exit.\n"
   ]
  },
  {
   "cell_type": "code",
   "execution_count": null,
   "id": "5ff89e6e",
   "metadata": {},
   "outputs": [],
   "source": [
    "# using match case\n"
   ]
  },
  {
   "cell_type": "code",
   "execution_count": 5,
   "id": "11c390b0",
   "metadata": {},
   "outputs": [
    {
     "name": "stdout",
     "output_type": "stream",
     "text": [
      "Input lengths of the triangle sides: \n",
      "x: 3\n",
      "y: 4\n",
      "z: 5\n",
      "Scalene triangle\n"
     ]
    }
   ],
   "source": [
    "#using if else \n",
    "print(\"Input lengths of the triangle sides: \")\n",
    "x = int(input(\"x: \"))\n",
    "y = int(input(\"y: \"))\n",
    "z = int(input(\"z: \"))\n",
    "\n",
    "if x == y == z:\n",
    "    print(\"Equilateral triangle\")\n",
    "elif x==y or y==z or z==x:\n",
    "    print(\"isosceles triangle\")\n",
    "else:\n",
    "    print(\"Scalene triangle\")\n"
   ]
  },
  {
   "cell_type": "markdown",
   "id": "dc01c37f",
   "metadata": {},
   "source": [
    "### 4. Write a program which takes user’s age and display the category of person. Age below 10 years- Kid, Age below 20 - Teen, Age below 40 - young, Age below 60 - Experienced, Age above or equal 60 - Senior Citizen.\n"
   ]
  },
  {
   "cell_type": "code",
   "execution_count": null,
   "id": "a70e4334",
   "metadata": {},
   "outputs": [],
   "source": [
    "age = int(input(\"Enter the range :\"))\n",
    "match age:\n",
    "    case age if age<10:\n",
    "        print(\"category of person is Kid\")\n",
    "    case age if age>10 and age<=20:\n",
    "        print(\"category of person is Teen\")\n",
    "    case age if age>20 and age<=40:\n",
    "        print(\"category of person is young\")\n",
    "    case age if age>40 and age<=60:\n",
    "        print(\"category of person is Experienced\")\n",
    "    case age if age>60:\n",
    "        print(\"category of person is Senior\")\n",
    "    case _:\n",
    "        print(\"invalid age group\")\n",
    "        \n",
    "        "
   ]
  },
  {
   "cell_type": "code",
   "execution_count": 6,
   "id": "1d75731a",
   "metadata": {},
   "outputs": [
    {
     "name": "stdout",
     "output_type": "stream",
     "text": [
      "Enter the range :45\n",
      "category of person is Experienced\n"
     ]
    }
   ],
   "source": [
    "#using if else \n",
    "age = int(input(\"Enter the range :\"))\n",
    "if age<=10:\n",
    "    print(\"category of person is Kid\")\n",
    "elif age>10 and age<=20:\n",
    "    print(\"category of person is Teen\")\n",
    "elif age>20 and age<=40:\n",
    "    print(\"category of person is young\")\n",
    "elif age>40 and age<=60:\n",
    "    print(\"category of person is Experienced\")\n",
    "else:\n",
    "    print(\"category of person is Senior\")"
   ]
  },
  {
   "cell_type": "markdown",
   "id": "011a703d",
   "metadata": {},
   "source": [
    "### 5. Write a program which takes a number from user. Print Saurabh Shukla if the number is even, print Prateek Jain if the number is negative odd number and print Aditya Choudhary if number is positive odd number.\n"
   ]
  },
  {
   "cell_type": "code",
   "execution_count": null,
   "id": "718c5bb4",
   "metadata": {},
   "outputs": [],
   "source": [
    "num = int(input(\"Enter the number :\"))\n",
    "match num:\n",
    "    case num if num%2==0:\n",
    "        print(\"Saurabh Shukla\")\n",
    "    case num if (num%2!=0)<0:\n",
    "        print(\"Prateek Jain\")\n",
    "    case num if (num%2!=0)>0:\n",
    "        print(\"Aditya Choudhary\")\n",
    "    case  _:\n",
    "        print(\"invalid number\")\n",
    "        \n",
    "    "
   ]
  },
  {
   "cell_type": "code",
   "execution_count": 9,
   "id": "623e07ca",
   "metadata": {},
   "outputs": [
    {
     "name": "stdout",
     "output_type": "stream",
     "text": [
      "Enter the number :3\n",
      "Aditya Choudhary\n"
     ]
    }
   ],
   "source": [
    "#using if else \n",
    "num = int(input(\"Enter the number :\"))\n",
    "if num%2==0:\n",
    "    print(\"Saurabh Shukla\")\n",
    "elif (num%2!=0)<0:\n",
    "    print(\"Prateek Jain\")\n",
    "elif (num%2!=0)>0:\n",
    "    print(\"Aditya Choudhary\")\n",
    "else:\n",
    "    print(\"-ve eevn numver\")"
   ]
  },
  {
   "cell_type": "markdown",
   "id": "4b4f5cfd",
   "metadata": {},
   "source": [
    "### 6. Write a python program to check whether a given string is a multiword string or single word string using match case statement\n"
   ]
  },
  {
   "cell_type": "code",
   "execution_count": 11,
   "id": "c91fcfa1",
   "metadata": {},
   "outputs": [
    {
     "ename": "SyntaxError",
     "evalue": "invalid syntax (2522204717.py, line 2)",
     "output_type": "error",
     "traceback": [
      "\u001b[1;36m  Input \u001b[1;32mIn [11]\u001b[1;36m\u001b[0m\n\u001b[1;33m    match string:\u001b[0m\n\u001b[1;37m          ^\u001b[0m\n\u001b[1;31mSyntaxError\u001b[0m\u001b[1;31m:\u001b[0m invalid syntax\n"
     ]
    }
   ],
   "source": [
    "s = input(\"Enter the string :\")\n",
    "string = s.stript()\n",
    "match string:\n",
    "    case string if ' ' in string:\n",
    "        print(\"Multiword string\")\n",
    "    case string if ' ' not in string:\n",
    "        print(\"Single word string\")\n",
    "    case _:\n",
    "        print(\"invalid string\")"
   ]
  },
  {
   "cell_type": "markdown",
   "id": "ecee020e",
   "metadata": {},
   "source": [
    "### 7. Write a python program to check whether a given number is positive, negative or zero using match case statement"
   ]
  },
  {
   "cell_type": "code",
   "execution_count": null,
   "id": "d5696659",
   "metadata": {},
   "outputs": [],
   "source": [
    "num = input(\"Enter the number :\")\n",
    "\n",
    "match num:\n",
    "    case num if num>0:\n",
    "        print(\"positive number\")\n",
    "    case num if num<0:\n",
    "        print(\"Negative number\")\n",
    "    case num if num==0:\n",
    "        print(\"number is zero\")"
   ]
  },
  {
   "cell_type": "markdown",
   "id": "1f9ce44e",
   "metadata": {},
   "source": [
    "### 8. Write a python script to check whether two given strings are identical, first string comes before the second in dictionary order or first string comes after the second string in dictionary order using match case statement"
   ]
  },
  {
   "cell_type": "code",
   "execution_count": null,
   "id": "17fa0ac9",
   "metadata": {},
   "outputs": [],
   "source": [
    "s1 = input(\"Enter the first string :\")\n",
    "s2 = input(\"Enter the second string :\")\n",
    "s1,s2 = s1.stript(),s2.stript()\n",
    "match (s1,s2):\n",
    "    case (s1,s2) if s1==s2:\n",
    "        print(\"Identical string\")\n",
    "    case (s1,s2) if s1>s2:\n",
    "        print(\"{} comes after {}\".format(s1,s2))\n",
    "    case (s1,s2) if s1<s2:\n",
    "        print(\"{} comes before {}\".format(s1,s2))"
   ]
  },
  {
   "cell_type": "markdown",
   "id": "b5c58227",
   "metadata": {},
   "source": [
    "### 9. Write a python script to check whether a given year is\n",
    "- a. Non century leap year\n",
    "- b. Century leap year\n",
    "- c. Non century non leap year\n",
    "- d. Century non leap year\n"
   ]
  },
  {
   "cell_type": "code",
   "execution_count": null,
   "id": "5b2701d2",
   "metadata": {},
   "outputs": [],
   "source": [
    "year = input(\"Enter the year :\")\n",
    "match year:\n",
    "    case year if year%400!=0:\n",
    "        print(\"Non century leap year\")\n",
    "    case year if year%400==0 and year%4==0:\n",
    "        print(\"Century leap year\")\n",
    "    case year if year%400!=0 and year%4!=0 :\n",
    "        print(\"Non century non leap year\")\n",
    "    case year if year%400==0 and year%4!=0 :\n",
    "        print(\"Century non leap year\")\n"
   ]
  },
  {
   "cell_type": "markdown",
   "id": "e8c748cb",
   "metadata": {},
   "source": [
    "### 10. Write a program to display day name on the basis of user’s liking of a colour. Ask  user for his favorite colour. User can answer in a sentence like “I like red colour”.Assuming all colour name entered by user is in lowercase. Use match case to display day name associated with the colour.\n",
    "- a. Yellow - Monday\n",
    "- b. Blue - Tuesday\n",
    "- c. Orange - Wednesday\n",
    "- d. White - Thursday\n",
    "- e. Black - Friday\n",
    "- f. Red - Saturday\n",
    "- g. All other colours - Sunday"
   ]
  },
  {
   "cell_type": "code",
   "execution_count": null,
   "id": "cbed8bac",
   "metadata": {},
   "outputs": [],
   "source": [
    "s1 = input(\"What is your favourite color\")\n",
    "lst=[\"Yellow\",\"Blue\",\"Orange\",\"White\",\"Black\",\"Red\"]\n",
    "for color in lst:\n",
    "    if color in s1:\n",
    "        c=color\n",
    "        break\n",
    "else:\n",
    "    c=\"others\"\n",
    "match c:\n",
    "    case \"Yellow\":\n",
    "        print(\"Monday\")\n",
    "    case \"Blue\":\n",
    "        print(\"Tuesday\")\n",
    "    case \"Orange\":\n",
    "        print(\"Wednesday\")\n",
    "    case \"White\":\n",
    "        print(\"Thursday\")\n",
    "    case \"Black\":\n",
    "        print(\"Friday\")\n",
    "    case \"Red\":\n",
    "        print(\"Saturday\")\n",
    "    case \"other\":\n",
    "        print(\"Sunday\")\n",
    "        \n",
    "        "
   ]
  }
 ],
 "metadata": {
  "kernelspec": {
   "display_name": "Python 3 (ipykernel)",
   "language": "python",
   "name": "python3"
  },
  "language_info": {
   "codemirror_mode": {
    "name": "ipython",
    "version": 3
   },
   "file_extension": ".py",
   "mimetype": "text/x-python",
   "name": "python",
   "nbconvert_exporter": "python",
   "pygments_lexer": "ipython3",
   "version": "3.9.12"
  }
 },
 "nbformat": 4,
 "nbformat_minor": 5
}
