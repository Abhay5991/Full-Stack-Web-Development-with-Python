{
 "cells": [
  {
   "cell_type": "markdown",
   "id": "eef2e3d6",
   "metadata": {},
   "source": [
    "### 1. Write a python script to remove the last digit from a given number. (for example, if user enters 2534 then your output should be 253)\n"
   ]
  },
  {
   "cell_type": "code",
   "execution_count": 1,
   "id": "ba4db1e9",
   "metadata": {},
   "outputs": [
    {
     "name": "stdout",
     "output_type": "stream",
     "text": [
      "Enter a number :2534\n",
      "After remove last digit the number is : 253\n"
     ]
    }
   ],
   "source": [
    "num=int(input(\"Enter a number :\"))\n",
    "remove_lst_dgt = int((num)/10)\n",
    "print(\"After remove last digit the number is :\",remove_lst_dgt) "
   ]
  },
  {
   "cell_type": "code",
   "execution_count": 2,
   "id": "c2301ec6",
   "metadata": {},
   "outputs": [
    {
     "name": "stdout",
     "output_type": "stream",
     "text": [
      "Enter a number :2534\n",
      "After remove last digit the number is : 253\n"
     ]
    }
   ],
   "source": [
    "#2nd method\n",
    "num=int(input(\"Enter a number :\"))\n",
    "remove_lst_dgt = int(str(num)[:-1])\n",
    "print(\"After remove last digit the number is :\",remove_lst_dgt) "
   ]
  },
  {
   "cell_type": "markdown",
   "id": "f2331025",
   "metadata": {},
   "source": [
    "### 2. Write a python script to get the last digit from a given number. (for example, if user enters 2089 then your output should be 9)\n"
   ]
  },
  {
   "cell_type": "code",
   "execution_count": 3,
   "id": "191ea64f",
   "metadata": {},
   "outputs": [
    {
     "name": "stdout",
     "output_type": "stream",
     "text": [
      "Enter a number :2089\n",
      "After remove last digit the number is : 9\n"
     ]
    }
   ],
   "source": [
    "num=int(input(\"Enter a number :\"))\n",
    "remove_lst_dgt = int((num)%10)\n",
    "print(\"After remove last digit the number is :\",remove_lst_dgt) "
   ]
  },
  {
   "cell_type": "code",
   "execution_count": 9,
   "id": "139f1b2a",
   "metadata": {},
   "outputs": [
    {
     "name": "stdout",
     "output_type": "stream",
     "text": [
      "Enter a number :2089\n",
      "the Last digit number is : 9\n"
     ]
    }
   ],
   "source": [
    "#nd method\n",
    "num=int(input(\"Enter a number :\"))\n",
    "remove_lst_dgt = int(str(num)[-1])\n",
    "print(\"the Last digit number is :\",remove_lst_dgt) "
   ]
  },
  {
   "cell_type": "markdown",
   "id": "c695464b",
   "metadata": {},
   "source": [
    "### 3. Write a python script to swap data of two variables\n"
   ]
  },
  {
   "cell_type": "code",
   "execution_count": 20,
   "id": "8ff13dae",
   "metadata": {},
   "outputs": [
    {
     "name": "stdout",
     "output_type": "stream",
     "text": [
      " a= 4 \n",
      " b= 3\n"
     ]
    }
   ],
   "source": [
    "a=3\n",
    "b=4\n",
    "a,b=b,a\n",
    "print(\" a=\",a,\"\\n\",\"b=\",b)"
   ]
  },
  {
   "cell_type": "markdown",
   "id": "2214d93b",
   "metadata": {},
   "source": [
    "### 4. Write a python script to find x power y, where values of x and y are given by user"
   ]
  },
  {
   "cell_type": "code",
   "execution_count": 21,
   "id": "e841eae7",
   "metadata": {},
   "outputs": [
    {
     "name": "stdout",
     "output_type": "stream",
     "text": [
      "Enter value of x :2\n",
      "Enter value of y :3\n",
      "x power y is : 8\n"
     ]
    }
   ],
   "source": [
    "x = int(input(\"Enter value of x :\"))\n",
    "y = int(input(\"Enter value of y :\"))\n",
    "z = x**y\n",
    "print(\"x power y is :\",z)"
   ]
  },
  {
   "cell_type": "markdown",
   "id": "3935a7ab",
   "metadata": {},
   "source": [
    "### 5. Write a python script which takes a three digit number from the user and displays only its first digit."
   ]
  },
  {
   "cell_type": "code",
   "execution_count": 6,
   "id": "7f923cac",
   "metadata": {},
   "outputs": [
    {
     "name": "stdout",
     "output_type": "stream",
     "text": [
      "Enter three digit number :345\n",
      "First digit is : 3\n"
     ]
    }
   ],
   "source": [
    "x = int(input(\"Enter three digit number :\"))\n",
    "fst_dgt = x//100\n",
    "print(\"First digit is :\", fst_dgt)"
   ]
  },
  {
   "cell_type": "code",
   "execution_count": 23,
   "id": "53ddbdd7",
   "metadata": {},
   "outputs": [
    {
     "name": "stdout",
     "output_type": "stream",
     "text": [
      "Enter three digit number :453\n",
      "First digit is : 4\n"
     ]
    }
   ],
   "source": [
    "x = int(input(\"Enter three digit number :\"))\n",
    "fst_dgt = int(str(x)[0])\n",
    "print(\"First digit is :\", fst_dgt)"
   ]
  },
  {
   "cell_type": "markdown",
   "id": "d04d017b",
   "metadata": {},
   "source": [
    "### 6. Write a python script which takes a three digit number from the user and displays only its middle digit."
   ]
  },
  {
   "cell_type": "code",
   "execution_count": 10,
   "id": "3fc926d2",
   "metadata": {},
   "outputs": [
    {
     "name": "stdout",
     "output_type": "stream",
     "text": [
      "Enter three digit number :345\n",
      "First digit is : 4\n"
     ]
    }
   ],
   "source": [
    "x = int(input(\"Enter three digit number :\"))\n",
    "num = x//10\n",
    "lst_dgt=num%10\n",
    "\n",
    "print(\"middle digit is :\", lst_dgt)"
   ]
  },
  {
   "cell_type": "code",
   "execution_count": 13,
   "id": "ed68cce7",
   "metadata": {},
   "outputs": [
    {
     "name": "stdout",
     "output_type": "stream",
     "text": [
      "Enter three digit number :234\n",
      "middle digit is : 3\n"
     ]
    }
   ],
   "source": [
    "#2nd method\n",
    "x = int(input(\"Enter three digit number :\"))\n",
    "middle = int(str(x)[1:-1])\n",
    "print(\"middle digit is :\", middle)"
   ]
  },
  {
   "cell_type": "markdown",
   "id": "ca8e9047",
   "metadata": {},
   "source": [
    "### 7. Write a python script which takes a three digit number from the user and displays only its last digit.\n"
   ]
  },
  {
   "cell_type": "code",
   "execution_count": 12,
   "id": "76d07bbc",
   "metadata": {},
   "outputs": [
    {
     "name": "stdout",
     "output_type": "stream",
     "text": [
      "Enter three digit number :234\n",
      "First digit is : 4\n"
     ]
    }
   ],
   "source": [
    "x = int(input(\"Enter three digit number :\"))\n",
    "num = x%10\n",
    "\n",
    "print(\"last digit is :\", lst_dgt)"
   ]
  },
  {
   "cell_type": "code",
   "execution_count": 14,
   "id": "d286f96f",
   "metadata": {},
   "outputs": [
    {
     "name": "stdout",
     "output_type": "stream",
     "text": [
      "Enter a number :234\n",
      "the Last digit number is : 4\n"
     ]
    }
   ],
   "source": [
    "#2nd method\n",
    "num=int(input(\"Enter a number :\"))\n",
    "lst_dgt = int(str(num)[-1])\n",
    "print(\"the Last digit number is :\",lst_dgt) "
   ]
  },
  {
   "cell_type": "markdown",
   "id": "89d52e1c",
   "metadata": {},
   "source": [
    "### 8. Write a python script to use IN operator to display the data present in the list"
   ]
  },
  {
   "cell_type": "code",
   "execution_count": 15,
   "id": "fae69481",
   "metadata": {},
   "outputs": [
    {
     "name": "stdout",
     "output_type": "stream",
     "text": [
      "Enter the number :5\n",
      "True\n"
     ]
    }
   ],
   "source": [
    "lst = [2,3,4,5,67]\n",
    "number = int(input(\"Enter the number :\"))\n",
    "print(number in  lst)"
   ]
  },
  {
   "cell_type": "markdown",
   "id": "64f50de8",
   "metadata": {},
   "source": [
    "### 9. Write a python script to use NOT IN operator to display the data not present in list\n"
   ]
  },
  {
   "cell_type": "code",
   "execution_count": 43,
   "id": "7c566919",
   "metadata": {},
   "outputs": [
    {
     "name": "stdout",
     "output_type": "stream",
     "text": [
      "False\n"
     ]
    }
   ],
   "source": [
    "lst = [2,3,4,5,67]\n",
    "print(5 not in lst)"
   ]
  },
  {
   "cell_type": "markdown",
   "id": "12f0268d",
   "metadata": {},
   "source": [
    "### 10. Write a python script to use IS operator to display if both variables are the same object or not?"
   ]
  },
  {
   "cell_type": "code",
   "execution_count": 44,
   "id": "dbc67bfb",
   "metadata": {},
   "outputs": [
    {
     "name": "stdout",
     "output_type": "stream",
     "text": [
      "object are same\n"
     ]
    }
   ],
   "source": [
    "a=5\n",
    "b=5\n",
    "if a is b:\n",
    "    print(\"object are same\")\n",
    "else:\n",
    "    print(\"object are not same\")"
   ]
  },
  {
   "cell_type": "code",
   "execution_count": 19,
   "id": "654b5d05",
   "metadata": {},
   "outputs": [
    {
     "name": "stdout",
     "output_type": "stream",
     "text": [
      "False\n"
     ]
    }
   ],
   "source": [
    "lst1=[1,2,3,45,4]\n",
    "lst2=[1,2,3,45,4]\n",
    "print(lst1 is lst2)"
   ]
  },
  {
   "cell_type": "code",
   "execution_count": null,
   "id": "c867ef54",
   "metadata": {},
   "outputs": [],
   "source": []
  }
 ],
 "metadata": {
  "kernelspec": {
   "display_name": "Python 3 (ipykernel)",
   "language": "python",
   "name": "python3"
  },
  "language_info": {
   "codemirror_mode": {
    "name": "ipython",
    "version": 3
   },
   "file_extension": ".py",
   "mimetype": "text/x-python",
   "name": "python",
   "nbconvert_exporter": "python",
   "pygments_lexer": "ipython3",
   "version": "3.9.12"
  }
 },
 "nbformat": 4,
 "nbformat_minor": 5
}
