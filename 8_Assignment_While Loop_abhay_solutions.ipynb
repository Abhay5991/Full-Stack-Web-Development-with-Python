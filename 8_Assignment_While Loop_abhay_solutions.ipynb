{
 "cells": [
  {
   "cell_type": "markdown",
   "id": "2952319d",
   "metadata": {},
   "source": [
    "### 1. Write a python script to print MySirG 5 times on the screen"
   ]
  },
  {
   "cell_type": "code",
   "execution_count": 1,
   "id": "94e2b30e",
   "metadata": {},
   "outputs": [
    {
     "name": "stdout",
     "output_type": "stream",
     "text": [
      "MySirG\n",
      "MySirG\n",
      "MySirG\n",
      "MySirG\n",
      "MySirG\n"
     ]
    }
   ],
   "source": [
    "i=0\n",
    "while i<5:\n",
    "    print(\"MySirG\")\n",
    "    i+=1"
   ]
  },
  {
   "cell_type": "markdown",
   "id": "c7969103",
   "metadata": {},
   "source": [
    "### 2. Write a python script to print first 10 natural numbers"
   ]
  },
  {
   "cell_type": "code",
   "execution_count": 3,
   "id": "58151acd",
   "metadata": {},
   "outputs": [
    {
     "name": "stdout",
     "output_type": "stream",
     "text": [
      "1 2 3 4 5 6 7 8 9 10 "
     ]
    }
   ],
   "source": [
    "i=1\n",
    "while i<=10:\n",
    "    print(i,end=' ')\n",
    "    i+=1"
   ]
  },
  {
   "cell_type": "markdown",
   "id": "54df25ca",
   "metadata": {},
   "source": [
    "### 3. Write a python script to print first 10 natural numbers in reverse order"
   ]
  },
  {
   "cell_type": "code",
   "execution_count": 4,
   "id": "c947b023",
   "metadata": {},
   "outputs": [
    {
     "name": "stdout",
     "output_type": "stream",
     "text": [
      "10 9 8 7 6 5 4 3 2 1 "
     ]
    }
   ],
   "source": [
    "i=10\n",
    "while i>=1:\n",
    "    print(i,end=' ')\n",
    "    i-=1"
   ]
  },
  {
   "cell_type": "markdown",
   "id": "25a6dcac",
   "metadata": {},
   "source": [
    "### 4. Write a python script to print first 10 odd natural numbers\n"
   ]
  },
  {
   "cell_type": "code",
   "execution_count": 9,
   "id": "f81d0d5c",
   "metadata": {},
   "outputs": [
    {
     "name": "stdout",
     "output_type": "stream",
     "text": [
      "1 3 5 7 9 11 13 15 17 19 "
     ]
    }
   ],
   "source": [
    "i=1\n",
    "while i<=20:\n",
    "    if i%2!=0:\n",
    "        print(i,end=' ')\n",
    "    i+=1"
   ]
  },
  {
   "cell_type": "markdown",
   "id": "9a50a9a6",
   "metadata": {},
   "source": [
    "### 5. Write a python script to print first 10 odd natural numbers in reverse order\n"
   ]
  },
  {
   "cell_type": "code",
   "execution_count": 11,
   "id": "8d019581",
   "metadata": {},
   "outputs": [
    {
     "name": "stdout",
     "output_type": "stream",
     "text": [
      "19 17 15 13 11 9 7 5 3 1 "
     ]
    }
   ],
   "source": [
    "i=20\n",
    "while i>=1:\n",
    "    if i%2!=0:\n",
    "        print(i,end=' ')\n",
    "    i-=1"
   ]
  },
  {
   "cell_type": "markdown",
   "id": "fe915bba",
   "metadata": {},
   "source": [
    "### 6. Write a python script to print first 10 even natural numbers\n"
   ]
  },
  {
   "cell_type": "code",
   "execution_count": 12,
   "id": "5cbc7b1d",
   "metadata": {},
   "outputs": [
    {
     "name": "stdout",
     "output_type": "stream",
     "text": [
      "2 4 6 8 10 12 14 16 18 20 "
     ]
    }
   ],
   "source": [
    "i=1\n",
    "while i<=20:\n",
    "    if i%2==0:\n",
    "        print(i,end=' ')\n",
    "    i+=1"
   ]
  },
  {
   "cell_type": "markdown",
   "id": "e625d524",
   "metadata": {},
   "source": [
    "### 7. Write a python script to print first 10 even natural numbers in reverse order"
   ]
  },
  {
   "cell_type": "code",
   "execution_count": 13,
   "id": "605ca4ca",
   "metadata": {},
   "outputs": [
    {
     "name": "stdout",
     "output_type": "stream",
     "text": [
      "20 18 16 14 12 10 8 6 4 2 "
     ]
    }
   ],
   "source": [
    "i=20\n",
    "while i>=1:\n",
    "    if i%2==0:\n",
    "        print(i,end=' ')\n",
    "    i-=1"
   ]
  },
  {
   "cell_type": "markdown",
   "id": "a2d99168",
   "metadata": {},
   "source": [
    "### 8. Write a python script to print squares of first 10 natural numbers\n"
   ]
  },
  {
   "cell_type": "code",
   "execution_count": 14,
   "id": "f75f0532",
   "metadata": {},
   "outputs": [
    {
     "name": "stdout",
     "output_type": "stream",
     "text": [
      "1 4 9 16 25 36 49 64 81 100 "
     ]
    }
   ],
   "source": [
    "i=1\n",
    "while i<=10:\n",
    "    print(i*i,end=' ')\n",
    "    i+=1"
   ]
  },
  {
   "cell_type": "markdown",
   "id": "4424487f",
   "metadata": {},
   "source": [
    "### 9. Write a python script to print cubes of first 10 natural numbers\n"
   ]
  },
  {
   "cell_type": "code",
   "execution_count": 15,
   "id": "35ff0267",
   "metadata": {},
   "outputs": [
    {
     "name": "stdout",
     "output_type": "stream",
     "text": [
      "1 8 27 64 125 216 343 512 729 1000 "
     ]
    }
   ],
   "source": [
    "i=1\n",
    "while i<=10:\n",
    "    print(i**3,end=' ')\n",
    "    i+=1"
   ]
  },
  {
   "cell_type": "markdown",
   "id": "0d052079",
   "metadata": {},
   "source": [
    "### 10. Write a python script to print first 10 multiples of 5"
   ]
  },
  {
   "cell_type": "code",
   "execution_count": 16,
   "id": "819ab05c",
   "metadata": {},
   "outputs": [
    {
     "name": "stdout",
     "output_type": "stream",
     "text": [
      "5 10 15 20 25 30 35 40 45 50 "
     ]
    }
   ],
   "source": [
    "i=1\n",
    "while i<=10:\n",
    "    print(i*5,end=' ')\n",
    "    i+=1"
   ]
  },
  {
   "cell_type": "code",
   "execution_count": null,
   "id": "5cfb7ec7",
   "metadata": {},
   "outputs": [],
   "source": []
  }
 ],
 "metadata": {
  "kernelspec": {
   "display_name": "Python 3 (ipykernel)",
   "language": "python",
   "name": "python3"
  },
  "language_info": {
   "codemirror_mode": {
    "name": "ipython",
    "version": 3
   },
   "file_extension": ".py",
   "mimetype": "text/x-python",
   "name": "python",
   "nbconvert_exporter": "python",
   "pygments_lexer": "ipython3",
   "version": "3.9.12"
  }
 },
 "nbformat": 4,
 "nbformat_minor": 5
}
