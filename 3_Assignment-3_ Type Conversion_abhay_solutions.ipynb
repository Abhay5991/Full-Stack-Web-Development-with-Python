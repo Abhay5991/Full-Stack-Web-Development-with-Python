{
 "cells": [
  {
   "cell_type": "markdown",
   "id": "27283f83",
   "metadata": {},
   "source": [
    "### 1. Write a python script to convert a number into str type.\n"
   ]
  },
  {
   "cell_type": "code",
   "execution_count": 3,
   "id": "23eaf019",
   "metadata": {},
   "outputs": [
    {
     "data": {
      "text/plain": [
       "'4'"
      ]
     },
     "execution_count": 3,
     "metadata": {},
     "output_type": "execute_result"
    }
   ],
   "source": [
    "a=4\n",
    "b=str(a)\n",
    "b"
   ]
  },
  {
   "cell_type": "code",
   "execution_count": 2,
   "id": "a7b72b4d",
   "metadata": {},
   "outputs": [
    {
     "data": {
      "text/plain": [
       "str"
      ]
     },
     "execution_count": 2,
     "metadata": {},
     "output_type": "execute_result"
    }
   ],
   "source": [
    "type(b)"
   ]
  },
  {
   "cell_type": "code",
   "execution_count": 3,
   "id": "834ee0c3",
   "metadata": {},
   "outputs": [
    {
     "data": {
      "text/plain": [
       "int"
      ]
     },
     "execution_count": 3,
     "metadata": {},
     "output_type": "execute_result"
    }
   ],
   "source": [
    "type(a)"
   ]
  },
  {
   "cell_type": "markdown",
   "id": "dc8f7837",
   "metadata": {},
   "source": [
    "### 2. Write a python script to print Unicode of the character ‘m’\n"
   ]
  },
  {
   "cell_type": "code",
   "execution_count": 5,
   "id": "c517588a",
   "metadata": {},
   "outputs": [
    {
     "data": {
      "text/plain": [
       "109"
      ]
     },
     "execution_count": 5,
     "metadata": {},
     "output_type": "execute_result"
    }
   ],
   "source": [
    "ord(\"m\")"
   ]
  },
  {
   "cell_type": "code",
   "execution_count": 8,
   "id": "ed68c225",
   "metadata": {},
   "outputs": [
    {
     "data": {
      "text/plain": [
       "'m'"
      ]
     },
     "execution_count": 8,
     "metadata": {},
     "output_type": "execute_result"
    }
   ],
   "source": [
    "chr(109)"
   ]
  },
  {
   "cell_type": "markdown",
   "id": "0715b084",
   "metadata": {},
   "source": [
    "### 3. Write a python script to print character representation of a given unicode 100."
   ]
  },
  {
   "cell_type": "code",
   "execution_count": 9,
   "id": "b8fb4acf",
   "metadata": {},
   "outputs": [
    {
     "data": {
      "text/plain": [
       "'d'"
      ]
     },
     "execution_count": 9,
     "metadata": {},
     "output_type": "execute_result"
    }
   ],
   "source": [
    "chr(100)"
   ]
  },
  {
   "cell_type": "markdown",
   "id": "42348a37",
   "metadata": {},
   "source": [
    "### 4. Write a python script to print any number and its binary equivalent\n"
   ]
  },
  {
   "cell_type": "code",
   "execution_count": 6,
   "id": "2d583bd9",
   "metadata": {},
   "outputs": [
    {
     "name": "stdout",
     "output_type": "stream",
     "text": [
      "24 0b11000\n"
     ]
    }
   ],
   "source": [
    "x=24\n",
    "print(x,bin(x))"
   ]
  },
  {
   "cell_type": "markdown",
   "id": "cebd0cc6",
   "metadata": {},
   "source": [
    "### 5. Write a python script to print any number and its octal equivalent.\n"
   ]
  },
  {
   "cell_type": "code",
   "execution_count": 7,
   "id": "ce0c6d8b",
   "metadata": {},
   "outputs": [
    {
     "name": "stdout",
     "output_type": "stream",
     "text": [
      "24 0o30\n"
     ]
    }
   ],
   "source": [
    "x=24\n",
    "print(x,oct(x))"
   ]
  },
  {
   "cell_type": "markdown",
   "id": "29049203",
   "metadata": {},
   "source": [
    "### 6. Write a python script to print any number and its hexadecimal equivalent.\n"
   ]
  },
  {
   "cell_type": "code",
   "execution_count": 8,
   "id": "6c4e29d7",
   "metadata": {},
   "outputs": [
    {
     "name": "stdout",
     "output_type": "stream",
     "text": [
      "24 0x18\n"
     ]
    }
   ],
   "source": [
    "x=24\n",
    "print(x,hex(x))"
   ]
  },
  {
   "cell_type": "markdown",
   "id": "89e7a7e6",
   "metadata": {},
   "source": [
    "### 7. Write a python script to store binary number 1100101 in a variable and print it in decimal format.\n"
   ]
  },
  {
   "cell_type": "code",
   "execution_count": 17,
   "id": "03c47a42",
   "metadata": {},
   "outputs": [
    {
     "name": "stdout",
     "output_type": "stream",
     "text": [
      "101\n"
     ]
    }
   ],
   "source": [
    "binary_num = 0b1100101\n",
    "print(binary_num)\n"
   ]
  },
  {
   "cell_type": "markdown",
   "id": "d9e58c7e",
   "metadata": {},
   "source": [
    "### 8. Write a python script to store a hexadecimal number 2F in a variable and print it in octal format.\n"
   ]
  },
  {
   "cell_type": "code",
   "execution_count": 22,
   "id": "09a25e1a",
   "metadata": {},
   "outputs": [
    {
     "name": "stdout",
     "output_type": "stream",
     "text": [
      "0o57\n"
     ]
    }
   ],
   "source": [
    "hex_num = 0x2F\n",
    " \n",
    "print(oct(hex_num))\n",
    "\n",
    " \n"
   ]
  },
  {
   "cell_type": "markdown",
   "id": "73eb72d2",
   "metadata": {},
   "source": [
    "### 9. Write a python script to store an octal number 125 in a variable and print it in binary format.\n"
   ]
  },
  {
   "cell_type": "code",
   "execution_count": 23,
   "id": "b200244c",
   "metadata": {},
   "outputs": [
    {
     "name": "stdout",
     "output_type": "stream",
     "text": [
      "0b1010101\n"
     ]
    }
   ],
   "source": [
    "oct_num = 0o125\n",
    "print(bin(oct_num))\n",
    "\n"
   ]
  },
  {
   "cell_type": "markdown",
   "id": "44924a8a",
   "metadata": {},
   "source": [
    "### 10. Write a python script to add two numbers 25 (in octal) and 39 (in hexadecimal) and display the result in binary format."
   ]
  },
  {
   "cell_type": "code",
   "execution_count": 24,
   "id": "fef84e8e",
   "metadata": {},
   "outputs": [
    {
     "name": "stdout",
     "output_type": "stream",
     "text": [
      "0b101010b111001\n"
     ]
    }
   ],
   "source": [
    "bin1 = bin(0o25)\n",
    "\n",
    "bin2 =bin(0x39)\n",
    "result = bin1+bin2\n",
    "print(result)\n"
   ]
  },
  {
   "cell_type": "code",
   "execution_count": null,
   "id": "b35ccc08",
   "metadata": {},
   "outputs": [],
   "source": []
  }
 ],
 "metadata": {
  "kernelspec": {
   "display_name": "Python 3 (ipykernel)",
   "language": "python",
   "name": "python3"
  },
  "language_info": {
   "codemirror_mode": {
    "name": "ipython",
    "version": 3
   },
   "file_extension": ".py",
   "mimetype": "text/x-python",
   "name": "python",
   "nbconvert_exporter": "python",
   "pygments_lexer": "ipython3",
   "version": "3.9.12"
  }
 },
 "nbformat": 4,
 "nbformat_minor": 5
}
