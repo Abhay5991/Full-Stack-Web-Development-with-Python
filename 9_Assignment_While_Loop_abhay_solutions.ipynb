{
 "cells": [
  {
   "cell_type": "markdown",
   "id": "e462158c",
   "metadata": {},
   "source": [
    "### 1. Write a python script to print MySirG N times on the screen"
   ]
  },
  {
   "cell_type": "code",
   "execution_count": 12,
   "id": "3aabcd1c",
   "metadata": {},
   "outputs": [
    {
     "name": "stdout",
     "output_type": "stream",
     "text": [
      "Enter the number4\n",
      "MySirG\n",
      "MySirG\n",
      "MySirG\n",
      "MySirG\n"
     ]
    }
   ],
   "source": [
    "n =int(input(\"Enter the number :\"))\n",
    "i=1\n",
    "while i<=n:\n",
    "    print(\"MySirG\")\n",
    "    i+=1"
   ]
  },
  {
   "cell_type": "markdown",
   "id": "d004e8ff",
   "metadata": {},
   "source": [
    "### 2. Write a python script to print first N natural numbers\n"
   ]
  },
  {
   "cell_type": "code",
   "execution_count": 14,
   "id": "9d3d8b02",
   "metadata": {},
   "outputs": [
    {
     "name": "stdout",
     "output_type": "stream",
     "text": [
      "Enter the number20\n",
      "1 2 3 4 5 6 7 8 9 10 11 12 13 14 15 16 17 18 19 20 "
     ]
    }
   ],
   "source": [
    "n =int(input(\"Enter the number :\"))\n",
    "i=1\n",
    "while i<=n:\n",
    "    print(i,end=' ')\n",
    "    i+=1"
   ]
  },
  {
   "cell_type": "markdown",
   "id": "16913177",
   "metadata": {},
   "source": [
    "### 3. Write a python script to print first N natural numbers in reverse order"
   ]
  },
  {
   "cell_type": "code",
   "execution_count": 15,
   "id": "522f7f04",
   "metadata": {},
   "outputs": [
    {
     "name": "stdout",
     "output_type": "stream",
     "text": [
      "Enter the number10\n",
      "10 9 8 7 6 5 4 3 2 1 "
     ]
    }
   ],
   "source": [
    "n =int(input(\"Enter the number :\"))\n",
    "i=n\n",
    "while i>=1:\n",
    "    print(i,end=' ')\n",
    "    i-=1"
   ]
  },
  {
   "cell_type": "markdown",
   "id": "bd6c733b",
   "metadata": {},
   "source": [
    "### 4. Write a python script to print first N odd natural numbers"
   ]
  },
  {
   "cell_type": "code",
   "execution_count": 17,
   "id": "b444270a",
   "metadata": {},
   "outputs": [
    {
     "name": "stdout",
     "output_type": "stream",
     "text": [
      "Enter the number10\n",
      "1 3 5 7 9 "
     ]
    }
   ],
   "source": [
    "n =int(input(\"Enter the number :\"))\n",
    "i=1\n",
    "while i<=n:\n",
    "    if i%2!=0:\n",
    "        print(i,end=' ')\n",
    "    i+=1"
   ]
  },
  {
   "cell_type": "markdown",
   "id": "9e8c6c6c",
   "metadata": {},
   "source": [
    "### 5. Write a python script to print first N odd natural numbers in reverse order"
   ]
  },
  {
   "cell_type": "code",
   "execution_count": 18,
   "id": "99252942",
   "metadata": {},
   "outputs": [
    {
     "name": "stdout",
     "output_type": "stream",
     "text": [
      "Enter the number10\n",
      "9 7 5 3 1 "
     ]
    }
   ],
   "source": [
    "n =int(input(\"Enter the number :\"))\n",
    "i=n\n",
    "while i>=1:\n",
    "    if i%2!=0:\n",
    "        print(i,end=' ')\n",
    "    i-=1"
   ]
  },
  {
   "cell_type": "markdown",
   "id": "a0552e96",
   "metadata": {},
   "source": [
    "### 6. Write a python script to print first N even natural numbers\n"
   ]
  },
  {
   "cell_type": "code",
   "execution_count": 19,
   "id": "961d21a6",
   "metadata": {},
   "outputs": [
    {
     "name": "stdout",
     "output_type": "stream",
     "text": [
      "Enter the number :10\n",
      "2 4 6 8 10 "
     ]
    }
   ],
   "source": [
    "n =int(input(\"Enter the number :\"))\n",
    "i=1\n",
    "while i<=n:\n",
    "    if i%2==0:\n",
    "        print(i,end=' ')\n",
    "    i+=1"
   ]
  },
  {
   "cell_type": "markdown",
   "id": "e4db6f7a",
   "metadata": {},
   "source": [
    "### 7. Write a python script to print first N even natural numbers in reverse order"
   ]
  },
  {
   "cell_type": "code",
   "execution_count": 20,
   "id": "bb7e9932",
   "metadata": {},
   "outputs": [
    {
     "name": "stdout",
     "output_type": "stream",
     "text": [
      "Enter the number :10\n",
      "10 8 6 4 2 "
     ]
    }
   ],
   "source": [
    "n =int(input(\"Enter the number :\"))\n",
    "i=n\n",
    "while i>=1:\n",
    "    if i%2==0:\n",
    "        print(i,end=' ')\n",
    "    i-=1"
   ]
  },
  {
   "cell_type": "markdown",
   "id": "08a5f958",
   "metadata": {},
   "source": [
    "### 8. Write a python script to print squares of first N natural numbers\n"
   ]
  },
  {
   "cell_type": "code",
   "execution_count": 21,
   "id": "2aa67373",
   "metadata": {},
   "outputs": [
    {
     "name": "stdout",
     "output_type": "stream",
     "text": [
      "Enter the number :10\n",
      "1 4 9 16 25 36 49 64 81 100 "
     ]
    }
   ],
   "source": [
    "n =int(input(\"Enter the number :\"))\n",
    "i=1\n",
    "while i<=n:\n",
    "    print(i*i,end=' ')\n",
    "    i+=1"
   ]
  },
  {
   "cell_type": "markdown",
   "id": "968ba47c",
   "metadata": {},
   "source": [
    "### 9. Write a python script to print cubes of first N natural numbers\n"
   ]
  },
  {
   "cell_type": "code",
   "execution_count": 22,
   "id": "f4124eb1",
   "metadata": {},
   "outputs": [
    {
     "name": "stdout",
     "output_type": "stream",
     "text": [
      "Enter the number :10\n",
      "1 8 27 64 125 216 343 512 729 1000 "
     ]
    }
   ],
   "source": [
    "n =int(input(\"Enter the number :\"))\n",
    "i=1\n",
    "while i<=n:\n",
    "    print(i**3,end=' ')\n",
    "    i+=1"
   ]
  },
  {
   "cell_type": "markdown",
   "id": "fdef4d30",
   "metadata": {},
   "source": [
    "### 10. Write a python script to print first 10 multiples of N"
   ]
  },
  {
   "cell_type": "code",
   "execution_count": 23,
   "id": "71db55dd",
   "metadata": {},
   "outputs": [
    {
     "name": "stdout",
     "output_type": "stream",
     "text": [
      "Enter the number :2\n",
      "2 4 6 8 10 12 14 16 18 20 "
     ]
    }
   ],
   "source": [
    "n =int(input(\"Enter the number :\"))\n",
    "i=1\n",
    "while i<=10:\n",
    "    print(n*i,end=' ')\n",
    "    i+=1"
   ]
  },
  {
   "cell_type": "code",
   "execution_count": null,
   "id": "a4c12e63",
   "metadata": {},
   "outputs": [],
   "source": []
  }
 ],
 "metadata": {
  "kernelspec": {
   "display_name": "Python 3 (ipykernel)",
   "language": "python",
   "name": "python3"
  },
  "language_info": {
   "codemirror_mode": {
    "name": "ipython",
    "version": 3
   },
   "file_extension": ".py",
   "mimetype": "text/x-python",
   "name": "python",
   "nbconvert_exporter": "python",
   "pygments_lexer": "ipython3",
   "version": "3.9.12"
  }
 },
 "nbformat": 4,
 "nbformat_minor": 5
}
