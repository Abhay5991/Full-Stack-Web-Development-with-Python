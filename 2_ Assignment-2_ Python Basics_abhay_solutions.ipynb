{
 "cells": [
  {
   "cell_type": "markdown",
   "id": "395f3187",
   "metadata": {},
   "source": [
    "## 1. Write a python script to add comments and print “Learning Python” on screen"
   ]
  },
  {
   "cell_type": "code",
   "execution_count": 1,
   "id": "ffd5e5c9",
   "metadata": {},
   "outputs": [
    {
     "name": "stdout",
     "output_type": "stream",
     "text": [
      "Learning Python\n"
     ]
    }
   ],
   "source": [
    "#this is single line coments\n",
    "print(\"Learning Python\") "
   ]
  },
  {
   "cell_type": "markdown",
   "id": "28d06256",
   "metadata": {},
   "source": [
    "### 2. Write a python script to add multi line comments and print values of four variables, each in a new line. Variable contains any values.\n"
   ]
  },
  {
   "cell_type": "code",
   "execution_count": 2,
   "id": "f6f6ecbf",
   "metadata": {},
   "outputs": [
    {
     "name": "stdout",
     "output_type": "stream",
     "text": [
      "2\n",
      "Abhay\n",
      "UK\n",
      "30\n"
     ]
    }
   ],
   "source": [
    "\"\"\" a,b,c,d are 4 variables\n",
    "a,b,c,d are 4 variables\n",
    "a,b,c,d are 4 variables \"\"\"\n",
    "\n",
    "a=2\n",
    "b=\"Abhay\"\n",
    "c=\"UK\"\n",
    "d=30\n",
    "print(a,b,c,d,sep=\"\\n\")\n"
   ]
  },
  {
   "cell_type": "markdown",
   "id": "c0b79eed",
   "metadata": {},
   "source": [
    "### 3. Write a python script to print types of variables. Create 5 variables each of them containing different types of data. (like 35, True, “MySirG”,5.46, 3+4j, etc)\n"
   ]
  },
  {
   "cell_type": "code",
   "execution_count": 20,
   "id": "a5f81ca3",
   "metadata": {},
   "outputs": [],
   "source": [
    "a=35\n",
    "b=True\n",
    "c=\"MySirG\"\n",
    "d=5.46\n",
    "e=3+4j"
   ]
  },
  {
   "cell_type": "code",
   "execution_count": 21,
   "id": "b1cf2b5a",
   "metadata": {},
   "outputs": [
    {
     "data": {
      "text/plain": [
       "int"
      ]
     },
     "execution_count": 21,
     "metadata": {},
     "output_type": "execute_result"
    }
   ],
   "source": [
    "type(a)"
   ]
  },
  {
   "cell_type": "code",
   "execution_count": 22,
   "id": "1f473fa8",
   "metadata": {},
   "outputs": [
    {
     "data": {
      "text/plain": [
       "bool"
      ]
     },
     "execution_count": 22,
     "metadata": {},
     "output_type": "execute_result"
    }
   ],
   "source": [
    "type(b)"
   ]
  },
  {
   "cell_type": "code",
   "execution_count": 23,
   "id": "79c46f99",
   "metadata": {},
   "outputs": [
    {
     "data": {
      "text/plain": [
       "str"
      ]
     },
     "execution_count": 23,
     "metadata": {},
     "output_type": "execute_result"
    }
   ],
   "source": [
    "type(c)"
   ]
  },
  {
   "cell_type": "code",
   "execution_count": 24,
   "id": "d7456f2a",
   "metadata": {},
   "outputs": [
    {
     "data": {
      "text/plain": [
       "float"
      ]
     },
     "execution_count": 24,
     "metadata": {},
     "output_type": "execute_result"
    }
   ],
   "source": [
    "type(d)"
   ]
  },
  {
   "cell_type": "code",
   "execution_count": 25,
   "id": "517ab743",
   "metadata": {},
   "outputs": [
    {
     "data": {
      "text/plain": [
       "complex"
      ]
     },
     "execution_count": 25,
     "metadata": {},
     "output_type": "execute_result"
    }
   ],
   "source": [
    "type(e)"
   ]
  },
  {
   "cell_type": "markdown",
   "id": "4e5e3ce6",
   "metadata": {},
   "source": [
    "### 4. Write a python script to print the id of two variables containing the same integer values.\n"
   ]
  },
  {
   "cell_type": "code",
   "execution_count": 30,
   "id": "45f2ef77",
   "metadata": {},
   "outputs": [
    {
     "data": {
      "text/plain": [
       "2091086211440"
      ]
     },
     "execution_count": 30,
     "metadata": {},
     "output_type": "execute_result"
    }
   ],
   "source": [
    "a=3\n",
    "id(a)"
   ]
  },
  {
   "cell_type": "code",
   "execution_count": 31,
   "id": "e7896664",
   "metadata": {},
   "outputs": [
    {
     "data": {
      "text/plain": [
       "2091086211440"
      ]
     },
     "execution_count": 31,
     "metadata": {},
     "output_type": "execute_result"
    }
   ],
   "source": [
    "b=3\n",
    "id(b)"
   ]
  },
  {
   "cell_type": "markdown",
   "id": "25038498",
   "metadata": {},
   "source": [
    "### 5. Create four variables in a Python script and assign values of different data types to them. Write a Python script to print value, its type and id of each variable"
   ]
  },
  {
   "cell_type": "code",
   "execution_count": 33,
   "id": "99c67c2a",
   "metadata": {},
   "outputs": [],
   "source": [
    "a=35\n",
    "b=True\n",
    "c=\"MySirG\"\n",
    "d=5.46\n",
    "e=3+4j"
   ]
  },
  {
   "cell_type": "code",
   "execution_count": 41,
   "id": "50365cce",
   "metadata": {},
   "outputs": [
    {
     "name": "stdout",
     "output_type": "stream",
     "text": [
      "35\n"
     ]
    },
    {
     "data": {
      "text/plain": [
       "int"
      ]
     },
     "execution_count": 41,
     "metadata": {},
     "output_type": "execute_result"
    }
   ],
   "source": [
    "print(a)\n",
    "type(a)"
   ]
  },
  {
   "cell_type": "code",
   "execution_count": 42,
   "id": "df735f41",
   "metadata": {},
   "outputs": [
    {
     "data": {
      "text/plain": [
       "2091086212464"
      ]
     },
     "execution_count": 42,
     "metadata": {},
     "output_type": "execute_result"
    }
   ],
   "source": [
    "id(a)"
   ]
  },
  {
   "cell_type": "code",
   "execution_count": 43,
   "id": "9726f7d0",
   "metadata": {},
   "outputs": [
    {
     "name": "stdout",
     "output_type": "stream",
     "text": [
      "True <class 'bool'> 140732022839400\n"
     ]
    }
   ],
   "source": [
    "print(b,type(b),id(b))"
   ]
  },
  {
   "cell_type": "code",
   "execution_count": 44,
   "id": "5f6dd3c1",
   "metadata": {},
   "outputs": [
    {
     "name": "stdout",
     "output_type": "stream",
     "text": [
      "MySirG <class 'str'> 2091172965104\n"
     ]
    }
   ],
   "source": [
    "print(c,type(c),id(c))"
   ]
  },
  {
   "cell_type": "code",
   "execution_count": 45,
   "id": "6ad20ae3",
   "metadata": {},
   "outputs": [
    {
     "name": "stdout",
     "output_type": "stream",
     "text": [
      "5.46 <class 'float'> 2091173114704\n"
     ]
    }
   ],
   "source": [
    "print(d,type(d),id(d))"
   ]
  },
  {
   "cell_type": "code",
   "execution_count": 46,
   "id": "864a70cc",
   "metadata": {},
   "outputs": [
    {
     "name": "stdout",
     "output_type": "stream",
     "text": [
      "(3+4j) <class 'complex'> 2091173115280\n"
     ]
    }
   ],
   "source": [
    "print(e,type(e),id(e))"
   ]
  },
  {
   "cell_type": "markdown",
   "id": "46f13961",
   "metadata": {},
   "source": [
    "## 6. Write a python script to print all the keywords"
   ]
  },
  {
   "cell_type": "code",
   "execution_count": 53,
   "id": "32afa104",
   "metadata": {},
   "outputs": [
    {
     "name": "stdout",
     "output_type": "stream",
     "text": [
      "['False', 'None', 'True', '__peg_parser__', 'and', 'as', 'assert', 'async', 'await', 'break', 'class', 'continue', 'def', 'del', 'elif', 'else', 'except', 'finally', 'for', 'from', 'global', 'if', 'import', 'in', 'is', 'lambda', 'nonlocal', 'not', 'or', 'pass', 'raise', 'return', 'try', 'while', 'with', 'yield']\n"
     ]
    }
   ],
   "source": [
    "import keyword\n",
    "print(keyword.kwlist)"
   ]
  },
  {
   "cell_type": "markdown",
   "id": "0f6daf25",
   "metadata": {},
   "source": [
    "## 7. On Python shell use help() function and display the list of keywords\n"
   ]
  },
  {
   "cell_type": "code",
   "execution_count": 58,
   "id": "ff2fb391",
   "metadata": {},
   "outputs": [
    {
     "name": "stdout",
     "output_type": "stream",
     "text": [
      "\n",
      "Welcome to Python 3.9's help utility!\n",
      "\n",
      "If this is your first time using Python, you should definitely check out\n",
      "the tutorial on the Internet at https://docs.python.org/3.9/tutorial/.\n",
      "\n",
      "Enter the name of any module, keyword, or topic to get help on writing\n",
      "Python programs and using Python modules.  To quit this help utility and\n",
      "return to the interpreter, just type \"quit\".\n",
      "\n",
      "To get a list of available modules, keywords, symbols, or topics, type\n",
      "\"modules\", \"keywords\", \"symbols\", or \"topics\".  Each module also comes\n",
      "with a one-line summary of what it does; to list the modules whose name\n",
      "or summary contain a given string such as \"spam\", type \"modules spam\".\n",
      "\n",
      "help> keywords\n",
      "\n",
      "Here is a list of the Python keywords.  Enter any keyword to get more help.\n",
      "\n",
      "False               break               for                 not\n",
      "None                class               from                or\n",
      "True                continue            global              pass\n",
      "__peg_parser__      def                 if                  raise\n",
      "and                 del                 import              return\n",
      "as                  elif                in                  try\n",
      "assert              else                is                  while\n",
      "async               except              lambda              with\n",
      "await               finally             nonlocal            yield\n",
      "\n",
      "\n",
      "You are now leaving help and returning to the Python interpreter.\n",
      "If you want to ask for help on a particular object directly from the\n",
      "interpreter, you can type \"help(object)\".  Executing \"help('string')\"\n",
      "has the same effect as typing a particular string at the help> prompt.\n"
     ]
    }
   ],
   "source": [
    "help()"
   ]
  },
  {
   "cell_type": "markdown",
   "id": "598fbd88",
   "metadata": {},
   "source": [
    "### 8. Create two Python files A0.py and A1.py. Create a variable in A1.py and assign some value to it. Write a python script to import A1 module in A0 and print value of the variable created in A0.py\n"
   ]
  },
  {
   "cell_type": "code",
   "execution_count": 62,
   "id": "274b0b73",
   "metadata": {},
   "outputs": [
    {
     "name": "stdout",
     "output_type": "stream",
     "text": [
      "1\n"
     ]
    }
   ],
   "source": [
    "import A0"
   ]
  },
  {
   "cell_type": "code",
   "execution_count": 63,
   "id": "5bdad330",
   "metadata": {},
   "outputs": [
    {
     "data": {
      "text/plain": [
       "1"
      ]
     },
     "execution_count": 63,
     "metadata": {},
     "output_type": "execute_result"
    }
   ],
   "source": [
    "A1.a"
   ]
  },
  {
   "cell_type": "code",
   "execution_count": 64,
   "id": "668d89a1",
   "metadata": {},
   "outputs": [
    {
     "data": {
      "text/plain": [
       "2"
      ]
     },
     "execution_count": 64,
     "metadata": {},
     "output_type": "execute_result"
    }
   ],
   "source": [
    "A1.b"
   ]
  },
  {
   "cell_type": "code",
   "execution_count": 65,
   "id": "887115b1",
   "metadata": {},
   "outputs": [
    {
     "data": {
      "text/plain": [
       "3"
      ]
     },
     "execution_count": 65,
     "metadata": {},
     "output_type": "execute_result"
    }
   ],
   "source": [
    "A1.c"
   ]
  },
  {
   "cell_type": "markdown",
   "id": "b93a700e",
   "metadata": {},
   "source": [
    "## 9. Name the keywords, used as data in the Python script.\n"
   ]
  },
  {
   "cell_type": "markdown",
   "id": "85a0ce20",
   "metadata": {},
   "source": [
    "#### Answer :- True, False, None"
   ]
  },
  {
   "cell_type": "markdown",
   "id": "029d2129",
   "metadata": {},
   "source": [
    "- Python keywords can be categorised as follows:\n",
    "\n",
    "  - Import Keywords: import, from, as\n",
    "  - Structure Keywords: def, class, with, pass, lambda\n",
    "  - Value Keywords: True, False, None\n",
    "  - Operator Keywords: and, or, not, in, is\n",
    "  - Control Flow Keywords: if, elif, else\n",
    "  - Iteration Keywords: for, while, break, continue\n",
    "  - Returning Keywords: return, yield\n",
    "  - Exception-Handling Keywords: try, except, raise, finally, assert\n",
    "  - Asynchronous Programming Keywords: async, await\n",
    "  - Variable Handling Keywords: del, global, nonlocal\n",
    "  - Ref:-https://towardsdatascience.com/top-python-keywords-that-you-must-use-in-your-data-preparation-process-290536a46576#:~:text=Python%20keywords%20can%20be%20categorised,Keywords%3A%20True%20%2C%20False%20%2C%20None"
   ]
  },
  {
   "cell_type": "markdown",
   "id": "1199480b",
   "metadata": {},
   "source": [
    "### 10. Write a python script to display the current date and time. First create variables to store date and time, then display date and time in proper format (like: 13-8-2022 and 9:00 PM)"
   ]
  },
  {
   "cell_type": "code",
   "execution_count": 36,
   "id": "5b4f9d5f",
   "metadata": {},
   "outputs": [],
   "source": [
    "import datetime"
   ]
  },
  {
   "cell_type": "code",
   "execution_count": 37,
   "id": "cd865fcc",
   "metadata": {},
   "outputs": [],
   "source": [
    "dt = datetime.datetime.now()"
   ]
  },
  {
   "cell_type": "code",
   "execution_count": 38,
   "id": "cd38a813",
   "metadata": {},
   "outputs": [
    {
     "data": {
      "text/plain": [
       "datetime.datetime(2022, 10, 27, 22, 45, 46, 251078)"
      ]
     },
     "execution_count": 38,
     "metadata": {},
     "output_type": "execute_result"
    }
   ],
   "source": [
    "dt"
   ]
  },
  {
   "cell_type": "code",
   "execution_count": 39,
   "id": "37667695",
   "metadata": {},
   "outputs": [
    {
     "name": "stdout",
     "output_type": "stream",
     "text": [
      "2022-10-27 22:45:46.251078\n"
     ]
    }
   ],
   "source": [
    "print(str(dt))"
   ]
  },
  {
   "cell_type": "code",
   "execution_count": 40,
   "id": "f09c7f49",
   "metadata": {},
   "outputs": [
    {
     "name": "stdout",
     "output_type": "stream",
     "text": [
      "date and time = 27/10/2022 22:45:46\n"
     ]
    }
   ],
   "source": [
    "dt_format = dt.strftime(\"%d/%m/%Y %H:%M:%S\")\n",
    "print(\"date and time =\", dt_format)"
   ]
  },
  {
   "cell_type": "code",
   "execution_count": 41,
   "id": "a1beb56d",
   "metadata": {},
   "outputs": [
    {
     "data": {
      "text/plain": [
       "'Oct/27/22 22:45:46'"
      ]
     },
     "execution_count": 41,
     "metadata": {},
     "output_type": "execute_result"
    }
   ],
   "source": [
    "dt_string = dt.strftime(\"%b/%d/%y %H:%M:%S\")\n",
    "dt_string"
   ]
  },
  {
   "cell_type": "code",
   "execution_count": null,
   "id": "943acdd7",
   "metadata": {},
   "outputs": [],
   "source": [
    "#\"%b/%d/%y\n",
    "#\"%d/%b/%y\n",
    "#\"%H/%M/%S\n",
    "#\"%d/%m/%y\n",
    "#\"%I/%M/%P   # H for 24 hrs \n",
    "# I for 12 hr\n",
    "#Y for full year and y for short me year\n",
    "#b for shot month B for full month"
   ]
  }
 ],
 "metadata": {
  "kernelspec": {
   "display_name": "Python 3 (ipykernel)",
   "language": "python",
   "name": "python3"
  },
  "language_info": {
   "codemirror_mode": {
    "name": "ipython",
    "version": 3
   },
   "file_extension": ".py",
   "mimetype": "text/x-python",
   "name": "python",
   "nbconvert_exporter": "python",
   "pygments_lexer": "ipython3",
   "version": "3.9.12"
  }
 },
 "nbformat": 4,
 "nbformat_minor": 5
}
