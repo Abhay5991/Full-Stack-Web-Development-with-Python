{
 "cells": [
  {
   "cell_type": "markdown",
   "id": "26235575",
   "metadata": {},
   "source": [
    "### 1. Write a python script to print the first 10 multiples of 5.\n"
   ]
  },
  {
   "cell_type": "code",
   "execution_count": 10,
   "id": "a222e593",
   "metadata": {},
   "outputs": [
    {
     "name": "stdout",
     "output_type": "stream",
     "text": [
      "0 5 10 15 20 25 30 35 40 45 "
     ]
    }
   ],
   "source": [
    "for i in range(0,50,5):\n",
    "    print(i,end=' ')"
   ]
  },
  {
   "cell_type": "code",
   "execution_count": 23,
   "id": "aad65d76",
   "metadata": {},
   "outputs": [
    {
     "name": "stdout",
     "output_type": "stream",
     "text": [
      "5 10 15 20 25 30 35 40 45 50 "
     ]
    }
   ],
   "source": [
    "for i in range(1,11):\n",
    "    print(5*i,end=' ')"
   ]
  },
  {
   "cell_type": "markdown",
   "id": "faa22c29",
   "metadata": {},
   "source": [
    "### 2. Write a python script to print first 10 multiples of N\n"
   ]
  },
  {
   "cell_type": "code",
   "execution_count": 28,
   "id": "9c5f8e5b",
   "metadata": {},
   "outputs": [
    {
     "name": "stdout",
     "output_type": "stream",
     "text": [
      "Please Enter any Number: 2\n",
      "2 4 6 8 10 12 14 16 18 20 "
     ]
    }
   ],
   "source": [
    "n = int(input(\"Please Enter any Number: \"))\n",
    "for i in range(1,11):\n",
    "    print(n*i,end=' ')"
   ]
  },
  {
   "cell_type": "markdown",
   "id": "e6172fe3",
   "metadata": {},
   "source": [
    "### 3. Write a python script to print first M multiples of N.\n"
   ]
  },
  {
   "cell_type": "code",
   "execution_count": 30,
   "id": "c061eacb",
   "metadata": {},
   "outputs": [
    {
     "name": "stdout",
     "output_type": "stream",
     "text": [
      "Please Enter the value of m: 5\n",
      "Please Enter the value of n: 2\n",
      "0 2 4 6 8 10 "
     ]
    }
   ],
   "source": [
    "m = int(input(\"Please Enter the value of m: \"))\n",
    "n = int(input(\"Please Enter the value of n: \"))\n",
    "\n",
    "for i in range(0,m+1):\n",
    "    print(n*i,end=' ')"
   ]
  },
  {
   "cell_type": "markdown",
   "id": "24492ca2",
   "metadata": {},
   "source": [
    "### 4. Write a python script to print the first 10 multiples of N in reverse order.\n"
   ]
  },
  {
   "cell_type": "code",
   "execution_count": 33,
   "id": "fb3d9cd8",
   "metadata": {},
   "outputs": [
    {
     "name": "stdout",
     "output_type": "stream",
     "text": [
      "Please Enter any Number: 2\n",
      "20 18 16 14 12 10 8 6 4 2 "
     ]
    }
   ],
   "source": [
    "n = int(input(\"Please Enter any Number: \"))\n",
    "for i in range(10,0,-1):\n",
    "    print(n*i,end=' ')"
   ]
  },
  {
   "cell_type": "markdown",
   "id": "d4f6399d",
   "metadata": {},
   "source": [
    "### 5. Write a python script to print table of user’s choice"
   ]
  },
  {
   "cell_type": "code",
   "execution_count": null,
   "id": "cbc56a0f",
   "metadata": {},
   "outputs": [],
   "source": [
    "n = int(input(\"Please Enter any Number: \"))\n",
    "for i in range(1,11):\n",
    "    print(n*i,end=' ')"
   ]
  },
  {
   "cell_type": "markdown",
   "id": "5b58b574",
   "metadata": {},
   "source": [
    "### 6. Write a python script to print first N even natural numbers"
   ]
  },
  {
   "cell_type": "code",
   "execution_count": 40,
   "id": "6d59c65c",
   "metadata": {},
   "outputs": [
    {
     "name": "stdout",
     "output_type": "stream",
     "text": [
      "Please Enter any Number: 10\n",
      "2 4 6 8 10 "
     ]
    }
   ],
   "source": [
    "n = int(input(\"Please Enter any Number: \"))\n",
    "for i in range(2,n+1,2):\n",
    "    print(i,end=' ')"
   ]
  },
  {
   "cell_type": "markdown",
   "id": "ad0b6a6a",
   "metadata": {},
   "source": [
    "### 7. Write a python script to print first N odd natural numbers\n"
   ]
  },
  {
   "cell_type": "code",
   "execution_count": 39,
   "id": "c1f6df7f",
   "metadata": {},
   "outputs": [
    {
     "name": "stdout",
     "output_type": "stream",
     "text": [
      "Please Enter any Number: 10\n",
      "1 3 5 7 9 "
     ]
    }
   ],
   "source": [
    "n = int(input(\"Please Enter any Number: \"))\n",
    "for i in range(1,n+1,2):\n",
    "    print(i,end=' ')"
   ]
  },
  {
   "cell_type": "markdown",
   "id": "2faf3b7b",
   "metadata": {},
   "source": [
    "### 8. Write a python script to print squares of first N natural numbers.\n"
   ]
  },
  {
   "cell_type": "code",
   "execution_count": 42,
   "id": "1209b713",
   "metadata": {},
   "outputs": [
    {
     "name": "stdout",
     "output_type": "stream",
     "text": [
      "Please Enter any Number: 10\n",
      "1 4 9 16 25 36 49 64 81 100 "
     ]
    }
   ],
   "source": [
    "n = int(input(\"Please Enter any Number: \"))\n",
    "for i in range(1,n+1):\n",
    "    print(i*i,end=' ')"
   ]
  },
  {
   "cell_type": "markdown",
   "id": "9f92e961",
   "metadata": {},
   "source": [
    "### 9. Write a python script to print cubes of first N natural numbers.\n"
   ]
  },
  {
   "cell_type": "code",
   "execution_count": 43,
   "id": "02ceb3a4",
   "metadata": {},
   "outputs": [
    {
     "name": "stdout",
     "output_type": "stream",
     "text": [
      "Please Enter any Number: 10\n",
      "1 8 27 64 125 216 343 512 729 1000 "
     ]
    }
   ],
   "source": [
    "n = int(input(\"Please Enter any Number: \"))\n",
    "for i in range(1,n+1):\n",
    "    print(i**3,end=' ')"
   ]
  },
  {
   "cell_type": "markdown",
   "id": "721cdafe",
   "metadata": {},
   "source": [
    "### 10. Write a python script to display all prime numbers within a range.\n",
    "### range\n",
    "- start = 15\n",
    "- end = 45"
   ]
  },
  {
   "cell_type": "code",
   "execution_count": 45,
   "id": "c796e129",
   "metadata": {},
   "outputs": [
    {
     "name": "stdout",
     "output_type": "stream",
     "text": [
      "Enter the min : 15\n",
      "Enter the max : 45\n",
      "17 19 23 29 31 37 41 43 "
     ]
    }
   ],
   "source": [
    "min = int(input(\"Enter the min : \"))\n",
    "max = int(input(\"Enter the max : \"))\n",
    "for n in range(min,max + 1):\n",
    "   if n > 1:\n",
    "       for i in range(2,n):\n",
    "           if (n % i) == 0:\n",
    "               break\n",
    "       else:\n",
    "           print(n,end=' ')"
   ]
  }
 ],
 "metadata": {
  "kernelspec": {
   "display_name": "Python 3 (ipykernel)",
   "language": "python",
   "name": "python3"
  },
  "language_info": {
   "codemirror_mode": {
    "name": "ipython",
    "version": 3
   },
   "file_extension": ".py",
   "mimetype": "text/x-python",
   "name": "python",
   "nbconvert_exporter": "python",
   "pygments_lexer": "ipython3",
   "version": "3.9.12"
  }
 },
 "nbformat": 4,
 "nbformat_minor": 5
}
